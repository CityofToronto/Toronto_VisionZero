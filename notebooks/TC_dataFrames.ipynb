{
  "nbformat": 4,
  "nbformat_minor": 0,
  "metadata": {
    "kernelspec": {
      "language": "python",
      "display_name": "Python 3",
      "name": "python3"
    },
    "language_info": {
      "pygments_lexer": "ipython3",
      "nbconvert_exporter": "python",
      "version": "3.6.4",
      "file_extension": ".py",
      "codemirror_mode": {
        "name": "ipython",
        "version": 3
      },
      "name": "python",
      "mimetype": "text/x-python"
    },
    "colab": {
      "name": "TC_dataFrames.ipynb",
      "provenance": []
    }
  },
  "cells": [
    {
      "cell_type": "code",
      "metadata": {
        "id": "dIv6PfqCEEbG",
        "colab_type": "code",
        "colab": {
          "base_uri": "https://localhost:8080/",
          "height": 122
        },
        "outputId": "1c6ba94b-290c-4dd3-ed81-eb022dfbe784"
      },
      "source": [
        "from google.colab import drive\n",
        "drive.mount('/content/drive')"
      ],
      "execution_count": 2,
      "outputs": [
        {
          "output_type": "stream",
          "text": [
            "Go to this URL in a browser: https://accounts.google.com/o/oauth2/auth?client_id=947318989803-6bn6qk8qdgf4n4g3pfee6491hc0brc4i.apps.googleusercontent.com&redirect_uri=urn%3aietf%3awg%3aoauth%3a2.0%3aoob&response_type=code&scope=email%20https%3a%2f%2fwww.googleapis.com%2fauth%2fdocs.test%20https%3a%2f%2fwww.googleapis.com%2fauth%2fdrive%20https%3a%2f%2fwww.googleapis.com%2fauth%2fdrive.photos.readonly%20https%3a%2f%2fwww.googleapis.com%2fauth%2fpeopleapi.readonly\n",
            "\n",
            "Enter your authorization code:\n",
            "··········\n",
            "Mounted at /content/drive\n"
          ],
          "name": "stdout"
        }
      ]
    },
    {
      "cell_type": "code",
      "metadata": {
        "_uuid": "d629ff2d2480ee46fbb7e2d37f6b5fab8052498a",
        "_cell_guid": "79c7e3d0-c299-4dcb-8224-4455121ee9b0",
        "trusted": true,
        "id": "OuRHclpcD85T",
        "colab_type": "code",
        "colab": {}
      },
      "source": [
        "import numpy as np\n",
        "import pandas as pd"
      ],
      "execution_count": 0,
      "outputs": []
    },
    {
      "cell_type": "code",
      "metadata": {
        "_cell_guid": "",
        "_uuid": "",
        "trusted": true,
        "id": "Q_bXtfoQD85Y",
        "colab_type": "code",
        "colab": {
          "base_uri": "https://localhost:8080/",
          "height": 813
        },
        "outputId": "2cfda418-cdd4-4688-a108-a7b4928c52d6"
      },
      "source": [
        "# df0 is a mix of two datasets: \"Collisions-Events\" and \"Collisions-Involved\"\n",
        "df0 = pd.read_csv(\"/content/drive/My Drive/Colab Notebooks/involved2020_forinsight_r1.csv\")\n",
        "df0"
      ],
      "execution_count": 4,
      "outputs": [
        {
          "output_type": "stream",
          "text": [
            "/usr/local/lib/python3.6/dist-packages/IPython/core/interactiveshell.py:2718: DtypeWarning:\n",
            "\n",
            "Columns (12,26,29,30,31,32,34) have mixed types. Specify dtype option on import or set low_memory=False.\n",
            "\n"
          ],
          "name": "stderr"
        },
        {
          "output_type": "execute_result",
          "data": {
            "text/html": [
              "<div>\n",
              "<style scoped>\n",
              "    .dataframe tbody tr th:only-of-type {\n",
              "        vertical-align: middle;\n",
              "    }\n",
              "\n",
              "    .dataframe tbody tr th {\n",
              "        vertical-align: top;\n",
              "    }\n",
              "\n",
              "    .dataframe thead th {\n",
              "        text-align: right;\n",
              "    }\n",
              "</style>\n",
              "<table border=\"1\" class=\"dataframe\">\n",
              "  <thead>\n",
              "    <tr style=\"text-align: right;\">\n",
              "      <th></th>\n",
              "      <th>collision_no</th>\n",
              "      <th>accyear</th>\n",
              "      <th>accdate</th>\n",
              "      <th>acctime</th>\n",
              "      <th>longitude</th>\n",
              "      <th>latitude</th>\n",
              "      <th>stname1</th>\n",
              "      <th>streetype1</th>\n",
              "      <th>dir1</th>\n",
              "      <th>stname2</th>\n",
              "      <th>streetype2</th>\n",
              "      <th>dir2</th>\n",
              "      <th>stname3</th>\n",
              "      <th>streetype3</th>\n",
              "      <th>dir3</th>\n",
              "      <th>road_class</th>\n",
              "      <th>visibility</th>\n",
              "      <th>light</th>\n",
              "      <th>road_surface_cond</th>\n",
              "      <th>traffic_control</th>\n",
              "      <th>vehicle_no</th>\n",
              "      <th>vehicle_class</th>\n",
              "      <th>initial_dir</th>\n",
              "      <th>impact_type</th>\n",
              "      <th>involved_class</th>\n",
              "      <th>involved_injury_class</th>\n",
              "      <th>safety_equip_used</th>\n",
              "      <th>driver_action</th>\n",
              "      <th>driver_condition</th>\n",
              "      <th>pedestrian_action</th>\n",
              "      <th>pedestrian_condition</th>\n",
              "      <th>pedestrian_collision_type</th>\n",
              "      <th>cyclist_action</th>\n",
              "      <th>cyclist_condition</th>\n",
              "      <th>cyclist_collision_type</th>\n",
              "      <th>manoeuver</th>\n",
              "      <th>posted_speed</th>\n",
              "      <th>actual_speed</th>\n",
              "    </tr>\n",
              "  </thead>\n",
              "  <tbody>\n",
              "    <tr>\n",
              "      <th>0</th>\n",
              "      <td>1</td>\n",
              "      <td>2000</td>\n",
              "      <td>2000-09-11</td>\n",
              "      <td>850</td>\n",
              "      <td>-79.456317</td>\n",
              "      <td>43.727732</td>\n",
              "      <td>YORKDALE</td>\n",
              "      <td>RD</td>\n",
              "      <td>W</td>\n",
              "      <td>401 C E YORKDALE W RAMP</td>\n",
              "      <td>RD</td>\n",
              "      <td>NaN</td>\n",
              "      <td>NaN</td>\n",
              "      <td>NaN</td>\n",
              "      <td>NaN</td>\n",
              "      <td>Minor Arterial</td>\n",
              "      <td>CLEAR</td>\n",
              "      <td>DAYLIGHT</td>\n",
              "      <td>DRY</td>\n",
              "      <td>NO CONTROL</td>\n",
              "      <td>1.0</td>\n",
              "      <td>AUTOMOBILE, STATION WAGON</td>\n",
              "      <td>NORTH</td>\n",
              "      <td>TURNING MOVEMENT</td>\n",
              "      <td>DRIVER</td>\n",
              "      <td>NONE</td>\n",
              "      <td>USE UNKNOWN</td>\n",
              "      <td>NaN</td>\n",
              "      <td>NaN</td>\n",
              "      <td>NaN</td>\n",
              "      <td>NaN</td>\n",
              "      <td>NaN</td>\n",
              "      <td>NaN</td>\n",
              "      <td>NaN</td>\n",
              "      <td>NaN</td>\n",
              "      <td>TURNING LEFT</td>\n",
              "      <td>NaN</td>\n",
              "      <td>NaN</td>\n",
              "    </tr>\n",
              "    <tr>\n",
              "      <th>1</th>\n",
              "      <td>1</td>\n",
              "      <td>2000</td>\n",
              "      <td>2000-09-11</td>\n",
              "      <td>850</td>\n",
              "      <td>-79.456317</td>\n",
              "      <td>43.727732</td>\n",
              "      <td>YORKDALE</td>\n",
              "      <td>RD</td>\n",
              "      <td>W</td>\n",
              "      <td>401 C E YORKDALE W RAMP</td>\n",
              "      <td>RD</td>\n",
              "      <td>NaN</td>\n",
              "      <td>NaN</td>\n",
              "      <td>NaN</td>\n",
              "      <td>NaN</td>\n",
              "      <td>Minor Arterial</td>\n",
              "      <td>CLEAR</td>\n",
              "      <td>DAYLIGHT</td>\n",
              "      <td>DRY</td>\n",
              "      <td>NO CONTROL</td>\n",
              "      <td>2.0</td>\n",
              "      <td>AUTOMOBILE, STATION WAGON</td>\n",
              "      <td>SOUTH</td>\n",
              "      <td>TURNING MOVEMENT</td>\n",
              "      <td>DRIVER</td>\n",
              "      <td>NONE</td>\n",
              "      <td>USE UNKNOWN</td>\n",
              "      <td>NaN</td>\n",
              "      <td>NaN</td>\n",
              "      <td>NaN</td>\n",
              "      <td>NaN</td>\n",
              "      <td>NaN</td>\n",
              "      <td>NaN</td>\n",
              "      <td>NaN</td>\n",
              "      <td>NaN</td>\n",
              "      <td>GOING AHEAD</td>\n",
              "      <td>NaN</td>\n",
              "      <td>NaN</td>\n",
              "    </tr>\n",
              "    <tr>\n",
              "      <th>2</th>\n",
              "      <td>2</td>\n",
              "      <td>2000</td>\n",
              "      <td>2000-09-11</td>\n",
              "      <td>850</td>\n",
              "      <td>-79.456271</td>\n",
              "      <td>43.727698</td>\n",
              "      <td>YORKDALE</td>\n",
              "      <td>RD</td>\n",
              "      <td>W</td>\n",
              "      <td>401 C E YORKDALE W RAMP</td>\n",
              "      <td>RD</td>\n",
              "      <td>NaN</td>\n",
              "      <td>NaN</td>\n",
              "      <td>NaN</td>\n",
              "      <td>NaN</td>\n",
              "      <td>Minor Arterial</td>\n",
              "      <td>CLEAR</td>\n",
              "      <td>DAYLIGHT</td>\n",
              "      <td>DRY</td>\n",
              "      <td>NO CONTROL</td>\n",
              "      <td>0.0</td>\n",
              "      <td>NaN</td>\n",
              "      <td>UNKNOWN</td>\n",
              "      <td>OTHER</td>\n",
              "      <td>PASSENGER</td>\n",
              "      <td>MINIMAL</td>\n",
              "      <td>LAP AND SHOULDER BELT</td>\n",
              "      <td>NaN</td>\n",
              "      <td>NaN</td>\n",
              "      <td>NaN</td>\n",
              "      <td>NaN</td>\n",
              "      <td>NaN</td>\n",
              "      <td>NaN</td>\n",
              "      <td>NaN</td>\n",
              "      <td>NaN</td>\n",
              "      <td>NaN</td>\n",
              "      <td>NaN</td>\n",
              "      <td>NaN</td>\n",
              "    </tr>\n",
              "    <tr>\n",
              "      <th>3</th>\n",
              "      <td>2</td>\n",
              "      <td>2000</td>\n",
              "      <td>2000-09-11</td>\n",
              "      <td>850</td>\n",
              "      <td>-79.456271</td>\n",
              "      <td>43.727698</td>\n",
              "      <td>YORKDALE</td>\n",
              "      <td>RD</td>\n",
              "      <td>W</td>\n",
              "      <td>401 C E YORKDALE W RAMP</td>\n",
              "      <td>RD</td>\n",
              "      <td>NaN</td>\n",
              "      <td>NaN</td>\n",
              "      <td>NaN</td>\n",
              "      <td>NaN</td>\n",
              "      <td>Minor Arterial</td>\n",
              "      <td>CLEAR</td>\n",
              "      <td>DAYLIGHT</td>\n",
              "      <td>DRY</td>\n",
              "      <td>NO CONTROL</td>\n",
              "      <td>0.0</td>\n",
              "      <td>NaN</td>\n",
              "      <td>NaN</td>\n",
              "      <td>OTHER</td>\n",
              "      <td>PASSENGER</td>\n",
              "      <td>MINIMAL</td>\n",
              "      <td>LAP AND SHOULDER BELT</td>\n",
              "      <td>NaN</td>\n",
              "      <td>NaN</td>\n",
              "      <td>NaN</td>\n",
              "      <td>NaN</td>\n",
              "      <td>NaN</td>\n",
              "      <td>NaN</td>\n",
              "      <td>NaN</td>\n",
              "      <td>NaN</td>\n",
              "      <td>NaN</td>\n",
              "      <td>NaN</td>\n",
              "      <td>NaN</td>\n",
              "    </tr>\n",
              "    <tr>\n",
              "      <th>4</th>\n",
              "      <td>2</td>\n",
              "      <td>2000</td>\n",
              "      <td>2000-09-11</td>\n",
              "      <td>850</td>\n",
              "      <td>-79.456271</td>\n",
              "      <td>43.727698</td>\n",
              "      <td>YORKDALE</td>\n",
              "      <td>RD</td>\n",
              "      <td>W</td>\n",
              "      <td>401 C E YORKDALE W RAMP</td>\n",
              "      <td>RD</td>\n",
              "      <td>NaN</td>\n",
              "      <td>NaN</td>\n",
              "      <td>NaN</td>\n",
              "      <td>NaN</td>\n",
              "      <td>Minor Arterial</td>\n",
              "      <td>CLEAR</td>\n",
              "      <td>DAYLIGHT</td>\n",
              "      <td>DRY</td>\n",
              "      <td>NO CONTROL</td>\n",
              "      <td>4.0</td>\n",
              "      <td>NaN</td>\n",
              "      <td>UNKNOWN</td>\n",
              "      <td>OTHER</td>\n",
              "      <td>VEHICLE OWNER</td>\n",
              "      <td>NONE</td>\n",
              "      <td>NaN</td>\n",
              "      <td>NaN</td>\n",
              "      <td>NaN</td>\n",
              "      <td>NaN</td>\n",
              "      <td>NaN</td>\n",
              "      <td>NaN</td>\n",
              "      <td>NaN</td>\n",
              "      <td>NaN</td>\n",
              "      <td>NaN</td>\n",
              "      <td>TURNING RIGHT</td>\n",
              "      <td>NaN</td>\n",
              "      <td>NaN</td>\n",
              "    </tr>\n",
              "    <tr>\n",
              "      <th>...</th>\n",
              "      <td>...</td>\n",
              "      <td>...</td>\n",
              "      <td>...</td>\n",
              "      <td>...</td>\n",
              "      <td>...</td>\n",
              "      <td>...</td>\n",
              "      <td>...</td>\n",
              "      <td>...</td>\n",
              "      <td>...</td>\n",
              "      <td>...</td>\n",
              "      <td>...</td>\n",
              "      <td>...</td>\n",
              "      <td>...</td>\n",
              "      <td>...</td>\n",
              "      <td>...</td>\n",
              "      <td>...</td>\n",
              "      <td>...</td>\n",
              "      <td>...</td>\n",
              "      <td>...</td>\n",
              "      <td>...</td>\n",
              "      <td>...</td>\n",
              "      <td>...</td>\n",
              "      <td>...</td>\n",
              "      <td>...</td>\n",
              "      <td>...</td>\n",
              "      <td>...</td>\n",
              "      <td>...</td>\n",
              "      <td>...</td>\n",
              "      <td>...</td>\n",
              "      <td>...</td>\n",
              "      <td>...</td>\n",
              "      <td>...</td>\n",
              "      <td>...</td>\n",
              "      <td>...</td>\n",
              "      <td>...</td>\n",
              "      <td>...</td>\n",
              "      <td>...</td>\n",
              "      <td>...</td>\n",
              "    </tr>\n",
              "    <tr>\n",
              "      <th>2601707</th>\n",
              "      <td>1038396</td>\n",
              "      <td>2019</td>\n",
              "      <td>2019-05-10</td>\n",
              "      <td>2200</td>\n",
              "      <td>-79.351940</td>\n",
              "      <td>43.677554</td>\n",
              "      <td>DANFORTH AV</td>\n",
              "      <td>NaN</td>\n",
              "      <td>NaN</td>\n",
              "      <td>CHESTER AV</td>\n",
              "      <td>NaN</td>\n",
              "      <td>NaN</td>\n",
              "      <td>22 m East of</td>\n",
              "      <td>NaN</td>\n",
              "      <td>NaN</td>\n",
              "      <td>Major Arterial</td>\n",
              "      <td>CLEAR</td>\n",
              "      <td>DARK, ARTIFICIAL</td>\n",
              "      <td>DRY</td>\n",
              "      <td>NO CONTROL</td>\n",
              "      <td>3.0</td>\n",
              "      <td>AUTOMOBILE, STATION WAGON</td>\n",
              "      <td>EAST</td>\n",
              "      <td>TURNING MOVEMENT</td>\n",
              "      <td>DRIVER</td>\n",
              "      <td>NONE</td>\n",
              "      <td>USE UNKNOWN</td>\n",
              "      <td>NaN</td>\n",
              "      <td>NORMAL</td>\n",
              "      <td>NaN</td>\n",
              "      <td>NaN</td>\n",
              "      <td>NaN</td>\n",
              "      <td>NaN</td>\n",
              "      <td>NaN</td>\n",
              "      <td>NaN</td>\n",
              "      <td>PARKED</td>\n",
              "      <td>40.0</td>\n",
              "      <td>0.0</td>\n",
              "    </tr>\n",
              "    <tr>\n",
              "      <th>2601708</th>\n",
              "      <td>1038396</td>\n",
              "      <td>2019</td>\n",
              "      <td>2019-05-10</td>\n",
              "      <td>2200</td>\n",
              "      <td>-79.351940</td>\n",
              "      <td>43.677554</td>\n",
              "      <td>DANFORTH AV</td>\n",
              "      <td>NaN</td>\n",
              "      <td>NaN</td>\n",
              "      <td>CHESTER AV</td>\n",
              "      <td>NaN</td>\n",
              "      <td>NaN</td>\n",
              "      <td>22 m East of</td>\n",
              "      <td>NaN</td>\n",
              "      <td>NaN</td>\n",
              "      <td>Major Arterial</td>\n",
              "      <td>CLEAR</td>\n",
              "      <td>DARK, ARTIFICIAL</td>\n",
              "      <td>DRY</td>\n",
              "      <td>NO CONTROL</td>\n",
              "      <td>2.0</td>\n",
              "      <td>NaN</td>\n",
              "      <td>NaN</td>\n",
              "      <td>TURNING MOVEMENT</td>\n",
              "      <td>PASSENGER</td>\n",
              "      <td>MINOR</td>\n",
              "      <td>USE UNKNOWN</td>\n",
              "      <td>NaN</td>\n",
              "      <td>NaN</td>\n",
              "      <td>NaN</td>\n",
              "      <td>NaN</td>\n",
              "      <td>NaN</td>\n",
              "      <td>NaN</td>\n",
              "      <td>NaN</td>\n",
              "      <td>NaN</td>\n",
              "      <td>NaN</td>\n",
              "      <td>NaN</td>\n",
              "      <td>NaN</td>\n",
              "    </tr>\n",
              "    <tr>\n",
              "      <th>2601709</th>\n",
              "      <td>1038397</td>\n",
              "      <td>2019</td>\n",
              "      <td>2019-07-20</td>\n",
              "      <td>2236</td>\n",
              "      <td>-79.314602</td>\n",
              "      <td>43.678378</td>\n",
              "      <td>GERRARD ST E</td>\n",
              "      <td>NaN</td>\n",
              "      <td>NaN</td>\n",
              "      <td>BOWMORE RD</td>\n",
              "      <td>NaN</td>\n",
              "      <td>NaN</td>\n",
              "      <td>43 m East of</td>\n",
              "      <td>NaN</td>\n",
              "      <td>NaN</td>\n",
              "      <td>Minor Arterial</td>\n",
              "      <td>RAIN</td>\n",
              "      <td>DARK, ARTIFICIAL</td>\n",
              "      <td>WET</td>\n",
              "      <td>NO CONTROL</td>\n",
              "      <td>1.0</td>\n",
              "      <td>AUTOMOBILE, STATION WAGON</td>\n",
              "      <td>EAST</td>\n",
              "      <td>SMV UNATTENDED VEHICLE</td>\n",
              "      <td>DRIVER</td>\n",
              "      <td>NONE</td>\n",
              "      <td>USE UNKNOWN</td>\n",
              "      <td>OTHER</td>\n",
              "      <td>UNKNOWN</td>\n",
              "      <td>NaN</td>\n",
              "      <td>NaN</td>\n",
              "      <td>NaN</td>\n",
              "      <td>NaN</td>\n",
              "      <td>NaN</td>\n",
              "      <td>NaN</td>\n",
              "      <td>GOING AHEAD</td>\n",
              "      <td>40.0</td>\n",
              "      <td>50.0</td>\n",
              "    </tr>\n",
              "    <tr>\n",
              "      <th>2601710</th>\n",
              "      <td>1038398</td>\n",
              "      <td>2019</td>\n",
              "      <td>2019-10-08</td>\n",
              "      <td>938</td>\n",
              "      <td>-79.372333</td>\n",
              "      <td>43.651519</td>\n",
              "      <td>JARVIS ST</td>\n",
              "      <td>NaN</td>\n",
              "      <td>NaN</td>\n",
              "      <td>ADELAIDE ST E</td>\n",
              "      <td>NaN</td>\n",
              "      <td>NaN</td>\n",
              "      <td>NaN</td>\n",
              "      <td>NaN</td>\n",
              "      <td>NaN</td>\n",
              "      <td>Major Arterial</td>\n",
              "      <td>CLEAR</td>\n",
              "      <td>DAYLIGHT</td>\n",
              "      <td>DRY</td>\n",
              "      <td>TRAFFIC SIGNAL</td>\n",
              "      <td>1.0</td>\n",
              "      <td>NaN</td>\n",
              "      <td>NaN</td>\n",
              "      <td>PEDESTRIAN COLLISIONS</td>\n",
              "      <td>PEDESTRIAN</td>\n",
              "      <td>MINOR</td>\n",
              "      <td>USE UNKNOWN</td>\n",
              "      <td>NaN</td>\n",
              "      <td>NaN</td>\n",
              "      <td>NaN</td>\n",
              "      <td>NORMAL</td>\n",
              "      <td>NaN</td>\n",
              "      <td>NaN</td>\n",
              "      <td>NaN</td>\n",
              "      <td>NaN</td>\n",
              "      <td>NaN</td>\n",
              "      <td>NaN</td>\n",
              "      <td>NaN</td>\n",
              "    </tr>\n",
              "    <tr>\n",
              "      <th>2601711</th>\n",
              "      <td>1038398</td>\n",
              "      <td>2019</td>\n",
              "      <td>2019-10-08</td>\n",
              "      <td>938</td>\n",
              "      <td>-79.372333</td>\n",
              "      <td>43.651519</td>\n",
              "      <td>JARVIS ST</td>\n",
              "      <td>NaN</td>\n",
              "      <td>NaN</td>\n",
              "      <td>ADELAIDE ST E</td>\n",
              "      <td>NaN</td>\n",
              "      <td>NaN</td>\n",
              "      <td>NaN</td>\n",
              "      <td>NaN</td>\n",
              "      <td>NaN</td>\n",
              "      <td>Major Arterial</td>\n",
              "      <td>CLEAR</td>\n",
              "      <td>DAYLIGHT</td>\n",
              "      <td>DRY</td>\n",
              "      <td>TRAFFIC SIGNAL</td>\n",
              "      <td>1.0</td>\n",
              "      <td>PICK UP TRUCK</td>\n",
              "      <td>EAST</td>\n",
              "      <td>PEDESTRIAN COLLISIONS</td>\n",
              "      <td>DRIVER</td>\n",
              "      <td>NONE</td>\n",
              "      <td>USE UNKNOWN</td>\n",
              "      <td>FAILED TO YIELD RIGHT OF WAY</td>\n",
              "      <td>INATTENTIVE</td>\n",
              "      <td>NaN</td>\n",
              "      <td>NaN</td>\n",
              "      <td>NaN</td>\n",
              "      <td>NaN</td>\n",
              "      <td>NaN</td>\n",
              "      <td>NaN</td>\n",
              "      <td>TURNING LEFT</td>\n",
              "      <td>50.0</td>\n",
              "      <td>30.0</td>\n",
              "    </tr>\n",
              "  </tbody>\n",
              "</table>\n",
              "<p>2601712 rows × 38 columns</p>\n",
              "</div>"
            ],
            "text/plain": [
              "         collision_no  accyear  ... posted_speed  actual_speed\n",
              "0                   1     2000  ...          NaN           NaN\n",
              "1                   1     2000  ...          NaN           NaN\n",
              "2                   2     2000  ...          NaN           NaN\n",
              "3                   2     2000  ...          NaN           NaN\n",
              "4                   2     2000  ...          NaN           NaN\n",
              "...               ...      ...  ...          ...           ...\n",
              "2601707       1038396     2019  ...         40.0           0.0\n",
              "2601708       1038396     2019  ...          NaN           NaN\n",
              "2601709       1038397     2019  ...         40.0          50.0\n",
              "2601710       1038398     2019  ...          NaN           NaN\n",
              "2601711       1038398     2019  ...         50.0          30.0\n",
              "\n",
              "[2601712 rows x 38 columns]"
            ]
          },
          "metadata": {
            "tags": []
          },
          "execution_count": 4
        }
      ]
    },
    {
      "cell_type": "code",
      "metadata": {
        "trusted": true,
        "id": "B78E10BJD85a",
        "colab_type": "code",
        "colab": {
          "base_uri": "https://localhost:8080/",
          "height": 187
        },
        "outputId": "39baea53-799b-45c0-d31b-ae589a2551e8"
      },
      "source": [
        "df0.columns"
      ],
      "execution_count": 5,
      "outputs": [
        {
          "output_type": "execute_result",
          "data": {
            "text/plain": [
              "Index(['collision_no', 'accyear', 'accdate', 'acctime', 'longitude',\n",
              "       'latitude', 'stname1', 'streetype1', 'dir1', 'stname2', 'streetype2',\n",
              "       'dir2', 'stname3', 'streetype3', 'dir3', 'road_class', 'visibility',\n",
              "       'light', 'road_surface_cond', 'traffic_control', 'vehicle_no',\n",
              "       'vehicle_class', 'initial_dir', 'impact_type', 'involved_class',\n",
              "       'involved_injury_class', 'safety_equip_used', 'driver_action',\n",
              "       'driver_condition', 'pedestrian_action', 'pedestrian_condition',\n",
              "       'pedestrian_collision_type', 'cyclist_action', 'cyclist_condition',\n",
              "       'cyclist_collision_type', 'manoeuver', 'posted_speed', 'actual_speed'],\n",
              "      dtype='object')"
            ]
          },
          "metadata": {
            "tags": []
          },
          "execution_count": 5
        }
      ]
    },
    {
      "cell_type": "code",
      "metadata": {
        "trusted": true,
        "id": "STvIVB13D85d",
        "colab_type": "code",
        "colab": {
          "base_uri": "https://localhost:8080/",
          "height": 34
        },
        "outputId": "502e79a7-004d-4471-bcc8-758cd9a56cfe"
      },
      "source": [
        "# This shows the number of collisions itself (NOT the number of people involved in the collisions)\n",
        "df0['collision_no'].nunique()"
      ],
      "execution_count": 6,
      "outputs": [
        {
          "output_type": "execute_result",
          "data": {
            "text/plain": [
              "1038398"
            ]
          },
          "metadata": {
            "tags": []
          },
          "execution_count": 6
        }
      ]
    },
    {
      "cell_type": "code",
      "metadata": {
        "trusted": true,
        "id": "FIuYnoMrD85f",
        "colab_type": "code",
        "colab": {}
      },
      "source": [
        "# Create df1 from df0\n",
        "df1 = df0.copy()\n",
        "\n",
        "# Add new column 'acc_date'\n",
        "df1['acc_date'] = pd.to_datetime(df0['accdate'], errors = 'raise')\n",
        "df1['year'] = df1['acc_date'].dt.year\n",
        "df1['month_name'] = df1['acc_date'].dt.month_name()\n",
        "df1['day_name'] = df1['acc_date'].dt.day_name()\n",
        "\n",
        "# Drop columns 'accdate' and 'accyear'\n",
        "df1.drop(['accdate', 'accyear'], axis=1, inplace=True)"
      ],
      "execution_count": 0,
      "outputs": []
    },
    {
      "cell_type": "code",
      "metadata": {
        "trusted": true,
        "id": "1jmkaoPDD85i",
        "colab_type": "code",
        "colab": {
          "base_uri": "https://localhost:8080/",
          "height": 51
        },
        "outputId": "d9bcc19f-3e2e-487c-ddce-27b9c9ceb6c5"
      },
      "source": [
        "df1['acc_date'].dt.year.unique() "
      ],
      "execution_count": 8,
      "outputs": [
        {
          "output_type": "execute_result",
          "data": {
            "text/plain": [
              "array([2000, 2001, 2002, 2003, 2004, 2005, 2006, 2007, 2008, 2009, 2010,\n",
              "       2011, 2012, 2013, 2014, 2015, 2016, 2017, 2018, 2019])"
            ]
          },
          "metadata": {
            "tags": []
          },
          "execution_count": 8
        }
      ]
    },
    {
      "cell_type": "code",
      "metadata": {
        "trusted": true,
        "id": "jMpC0DJKD85k",
        "colab_type": "code",
        "colab": {
          "base_uri": "https://localhost:8080/",
          "height": 34
        },
        "outputId": "97a77f47-fb89-41a2-9d9f-29a938cce1eb"
      },
      "source": [
        "df1['involved_injury_class'].unique()"
      ],
      "execution_count": 9,
      "outputs": [
        {
          "output_type": "execute_result",
          "data": {
            "text/plain": [
              "array(['NONE', 'MINIMAL', nan, 'MINOR', 'FATAL', 'MAJOR'], dtype=object)"
            ]
          },
          "metadata": {
            "tags": []
          },
          "execution_count": 9
        }
      ]
    },
    {
      "cell_type": "code",
      "metadata": {
        "trusted": true,
        "id": "p-u5rA0qD85m",
        "colab_type": "code",
        "colab": {
          "base_uri": "https://localhost:8080/",
          "height": 34
        },
        "outputId": "817e802b-e177-4790-d7c0-b4e947891441"
      },
      "source": [
        "print('{:,}'.format(df1['involved_injury_class'].isna().sum()), \n",
        "      'data points in \"involved_injury_class\" are nan, which will be removed.')\n",
        "df1.dropna(subset=['involved_injury_class'], inplace=True)"
      ],
      "execution_count": 10,
      "outputs": [
        {
          "output_type": "stream",
          "text": [
            "137,349 data points in \"involved_injury_class\" are nan, which will be removed.\n"
          ],
          "name": "stdout"
        }
      ]
    },
    {
      "cell_type": "code",
      "metadata": {
        "trusted": true,
        "id": "wShgDIcpD85o",
        "colab_type": "code",
        "colab": {
          "base_uri": "https://localhost:8080/",
          "height": 136
        },
        "outputId": "1b153a25-2ab5-4d7c-d8e7-b13a34e5d3cb"
      },
      "source": [
        "df1['involved_class'].unique()"
      ],
      "execution_count": 11,
      "outputs": [
        {
          "output_type": "execute_result",
          "data": {
            "text/plain": [
              "array(['DRIVER', 'PASSENGER', 'VEHICLE OWNER', nan, 'OTHER',\n",
              "       'OTHER PROPERTY OWNER', 'TRUCK DRIVER', 'PEDESTRIAN', 'CYCLIST',\n",
              "       'WITNESS', 'MOTORCYCLE DRIVER', 'RUNAWAY - NO DRIVER',\n",
              "       'WHEELCHAIR', 'IN-LINE SKATER', 'MOPED DRIVER', 'UNKNOWN - FTR',\n",
              "       'DRIVER - NOT HIT', 'TRAILER OWNER', 'MOTORCYCLE PASSENGER',\n",
              "       'CYCLIST - NOT HIT', 'MOPED PASSENGER', 'CYCLIST PASSENGER',\n",
              "       'ANIMAL', 'PEDESTRIAN - NOT HIT'], dtype=object)"
            ]
          },
          "metadata": {
            "tags": []
          },
          "execution_count": 11
        }
      ]
    },
    {
      "cell_type": "code",
      "metadata": {
        "trusted": true,
        "id": "RthVBzqCD85r",
        "colab_type": "code",
        "colab": {
          "base_uri": "https://localhost:8080/",
          "height": 34
        },
        "outputId": "740b6559-8bfc-4df5-f07e-1259cd12504f"
      },
      "source": [
        "print('{:,}'.format(df1['involved_class'].isna().sum()), \n",
        "      'data points in \"involved_class\" are nan, which will be removed.')\n",
        "df1.dropna(subset=['involved_class'], inplace=True)"
      ],
      "execution_count": 12,
      "outputs": [
        {
          "output_type": "stream",
          "text": [
            "12,228 data points in \"involved_class\" are nan, which will be removed.\n"
          ],
          "name": "stdout"
        }
      ]
    },
    {
      "cell_type": "code",
      "metadata": {
        "trusted": true,
        "id": "XRWPbkiiD85u",
        "colab_type": "code",
        "colab": {
          "base_uri": "https://localhost:8080/",
          "height": 34
        },
        "outputId": "c5641c69-2556-482e-96c7-f989824f65f7"
      },
      "source": [
        "print('{:,}'.format(df1['longitude'].isna().sum()), \n",
        "      'data points in \"longitude\" are nan, which will be removed.')\n",
        "df1.dropna(subset=['longitude'], inplace=True)"
      ],
      "execution_count": 13,
      "outputs": [
        {
          "output_type": "stream",
          "text": [
            "21 data points in \"longitude\" are nan, which will be removed.\n"
          ],
          "name": "stdout"
        }
      ]
    },
    {
      "cell_type": "code",
      "metadata": {
        "trusted": true,
        "id": "OzqmNwHXD85w",
        "colab_type": "code",
        "colab": {
          "base_uri": "https://localhost:8080/",
          "height": 34
        },
        "outputId": "43ec4d2c-7511-45a5-ac4f-b72d72e360af"
      },
      "source": [
        "df1['latitude'].isna().sum()"
      ],
      "execution_count": 14,
      "outputs": [
        {
          "output_type": "execute_result",
          "data": {
            "text/plain": [
              "0"
            ]
          },
          "metadata": {
            "tags": []
          },
          "execution_count": 14
        }
      ]
    },
    {
      "cell_type": "code",
      "metadata": {
        "trusted": true,
        "id": "YDK3M2XFD85y",
        "colab_type": "code",
        "colab": {
          "base_uri": "https://localhost:8080/",
          "height": 34
        },
        "outputId": "e677bb89-8914-4b4c-ecdc-fb453dfc24c5"
      },
      "source": [
        "# Drop points whose lon-lat are not in Toronto (spatial outlier)\n",
        "# Toronto lon-lat ranges:\n",
        "#    longitude: (-79.65 , -79.08)\n",
        "#    latitude: (43.57 , 43.85)\n",
        "\n",
        "i = df1[(df1['longitude']<-79.65) | (df1['longitude']>-79.08) | (df1['latitude']<43.57) | (df1['latitude']>43.85)].index\n",
        "df1.drop(i, inplace=True)\n",
        "\n",
        "print('There were {:,} spatial outliers which are removed now.'.format(i.size))"
      ],
      "execution_count": 15,
      "outputs": [
        {
          "output_type": "stream",
          "text": [
            "There were 2,421 spatial outliers which are removed now.\n"
          ],
          "name": "stdout"
        }
      ]
    },
    {
      "cell_type": "code",
      "metadata": {
        "trusted": true,
        "id": "q8yTtGDsD850",
        "colab_type": "code",
        "colab": {
          "base_uri": "https://localhost:8080/",
          "height": 762
        },
        "outputId": "42b2af78-f876-4610-c6ba-3e5efd14f59f"
      },
      "source": [
        "# Add new columns to df1\n",
        "df1['# involved'] = int(1)\n",
        "\n",
        "df1['# injured'] = int(0)\n",
        "df1.loc[df1['involved_injury_class'].isin(['MINIMAL', 'MINOR', 'MAJOR']), ['# injured']] = int(1) \n",
        "\n",
        "df1['# fatalities'] = int(0)\n",
        "df1.loc[df1['involved_injury_class']=='FATAL', ['# fatalities']] = int(1) \n",
        "\n",
        "df1['# KSI'] = int(0)\n",
        "df1.loc[df1['involved_injury_class'].isin(['MAJOR', 'FATAL']), ['# KSI']] = int(1) \n",
        "df1"
      ],
      "execution_count": 16,
      "outputs": [
        {
          "output_type": "execute_result",
          "data": {
            "text/html": [
              "<div>\n",
              "<style scoped>\n",
              "    .dataframe tbody tr th:only-of-type {\n",
              "        vertical-align: middle;\n",
              "    }\n",
              "\n",
              "    .dataframe tbody tr th {\n",
              "        vertical-align: top;\n",
              "    }\n",
              "\n",
              "    .dataframe thead th {\n",
              "        text-align: right;\n",
              "    }\n",
              "</style>\n",
              "<table border=\"1\" class=\"dataframe\">\n",
              "  <thead>\n",
              "    <tr style=\"text-align: right;\">\n",
              "      <th></th>\n",
              "      <th>collision_no</th>\n",
              "      <th>acctime</th>\n",
              "      <th>longitude</th>\n",
              "      <th>latitude</th>\n",
              "      <th>stname1</th>\n",
              "      <th>streetype1</th>\n",
              "      <th>dir1</th>\n",
              "      <th>stname2</th>\n",
              "      <th>streetype2</th>\n",
              "      <th>dir2</th>\n",
              "      <th>stname3</th>\n",
              "      <th>streetype3</th>\n",
              "      <th>dir3</th>\n",
              "      <th>road_class</th>\n",
              "      <th>visibility</th>\n",
              "      <th>light</th>\n",
              "      <th>road_surface_cond</th>\n",
              "      <th>traffic_control</th>\n",
              "      <th>vehicle_no</th>\n",
              "      <th>vehicle_class</th>\n",
              "      <th>initial_dir</th>\n",
              "      <th>impact_type</th>\n",
              "      <th>involved_class</th>\n",
              "      <th>involved_injury_class</th>\n",
              "      <th>safety_equip_used</th>\n",
              "      <th>driver_action</th>\n",
              "      <th>driver_condition</th>\n",
              "      <th>pedestrian_action</th>\n",
              "      <th>pedestrian_condition</th>\n",
              "      <th>pedestrian_collision_type</th>\n",
              "      <th>cyclist_action</th>\n",
              "      <th>cyclist_condition</th>\n",
              "      <th>cyclist_collision_type</th>\n",
              "      <th>manoeuver</th>\n",
              "      <th>posted_speed</th>\n",
              "      <th>actual_speed</th>\n",
              "      <th>acc_date</th>\n",
              "      <th>year</th>\n",
              "      <th>month_name</th>\n",
              "      <th>day_name</th>\n",
              "      <th># involved</th>\n",
              "      <th># injured</th>\n",
              "      <th># fatalities</th>\n",
              "      <th># KSI</th>\n",
              "    </tr>\n",
              "  </thead>\n",
              "  <tbody>\n",
              "    <tr>\n",
              "      <th>0</th>\n",
              "      <td>1</td>\n",
              "      <td>850</td>\n",
              "      <td>-79.456317</td>\n",
              "      <td>43.727732</td>\n",
              "      <td>YORKDALE</td>\n",
              "      <td>RD</td>\n",
              "      <td>W</td>\n",
              "      <td>401 C E YORKDALE W RAMP</td>\n",
              "      <td>RD</td>\n",
              "      <td>NaN</td>\n",
              "      <td>NaN</td>\n",
              "      <td>NaN</td>\n",
              "      <td>NaN</td>\n",
              "      <td>Minor Arterial</td>\n",
              "      <td>CLEAR</td>\n",
              "      <td>DAYLIGHT</td>\n",
              "      <td>DRY</td>\n",
              "      <td>NO CONTROL</td>\n",
              "      <td>1.0</td>\n",
              "      <td>AUTOMOBILE, STATION WAGON</td>\n",
              "      <td>NORTH</td>\n",
              "      <td>TURNING MOVEMENT</td>\n",
              "      <td>DRIVER</td>\n",
              "      <td>NONE</td>\n",
              "      <td>USE UNKNOWN</td>\n",
              "      <td>NaN</td>\n",
              "      <td>NaN</td>\n",
              "      <td>NaN</td>\n",
              "      <td>NaN</td>\n",
              "      <td>NaN</td>\n",
              "      <td>NaN</td>\n",
              "      <td>NaN</td>\n",
              "      <td>NaN</td>\n",
              "      <td>TURNING LEFT</td>\n",
              "      <td>NaN</td>\n",
              "      <td>NaN</td>\n",
              "      <td>2000-09-11</td>\n",
              "      <td>2000</td>\n",
              "      <td>September</td>\n",
              "      <td>Monday</td>\n",
              "      <td>1</td>\n",
              "      <td>0</td>\n",
              "      <td>0</td>\n",
              "      <td>0</td>\n",
              "    </tr>\n",
              "    <tr>\n",
              "      <th>1</th>\n",
              "      <td>1</td>\n",
              "      <td>850</td>\n",
              "      <td>-79.456317</td>\n",
              "      <td>43.727732</td>\n",
              "      <td>YORKDALE</td>\n",
              "      <td>RD</td>\n",
              "      <td>W</td>\n",
              "      <td>401 C E YORKDALE W RAMP</td>\n",
              "      <td>RD</td>\n",
              "      <td>NaN</td>\n",
              "      <td>NaN</td>\n",
              "      <td>NaN</td>\n",
              "      <td>NaN</td>\n",
              "      <td>Minor Arterial</td>\n",
              "      <td>CLEAR</td>\n",
              "      <td>DAYLIGHT</td>\n",
              "      <td>DRY</td>\n",
              "      <td>NO CONTROL</td>\n",
              "      <td>2.0</td>\n",
              "      <td>AUTOMOBILE, STATION WAGON</td>\n",
              "      <td>SOUTH</td>\n",
              "      <td>TURNING MOVEMENT</td>\n",
              "      <td>DRIVER</td>\n",
              "      <td>NONE</td>\n",
              "      <td>USE UNKNOWN</td>\n",
              "      <td>NaN</td>\n",
              "      <td>NaN</td>\n",
              "      <td>NaN</td>\n",
              "      <td>NaN</td>\n",
              "      <td>NaN</td>\n",
              "      <td>NaN</td>\n",
              "      <td>NaN</td>\n",
              "      <td>NaN</td>\n",
              "      <td>GOING AHEAD</td>\n",
              "      <td>NaN</td>\n",
              "      <td>NaN</td>\n",
              "      <td>2000-09-11</td>\n",
              "      <td>2000</td>\n",
              "      <td>September</td>\n",
              "      <td>Monday</td>\n",
              "      <td>1</td>\n",
              "      <td>0</td>\n",
              "      <td>0</td>\n",
              "      <td>0</td>\n",
              "    </tr>\n",
              "    <tr>\n",
              "      <th>2</th>\n",
              "      <td>2</td>\n",
              "      <td>850</td>\n",
              "      <td>-79.456271</td>\n",
              "      <td>43.727698</td>\n",
              "      <td>YORKDALE</td>\n",
              "      <td>RD</td>\n",
              "      <td>W</td>\n",
              "      <td>401 C E YORKDALE W RAMP</td>\n",
              "      <td>RD</td>\n",
              "      <td>NaN</td>\n",
              "      <td>NaN</td>\n",
              "      <td>NaN</td>\n",
              "      <td>NaN</td>\n",
              "      <td>Minor Arterial</td>\n",
              "      <td>CLEAR</td>\n",
              "      <td>DAYLIGHT</td>\n",
              "      <td>DRY</td>\n",
              "      <td>NO CONTROL</td>\n",
              "      <td>0.0</td>\n",
              "      <td>NaN</td>\n",
              "      <td>UNKNOWN</td>\n",
              "      <td>OTHER</td>\n",
              "      <td>PASSENGER</td>\n",
              "      <td>MINIMAL</td>\n",
              "      <td>LAP AND SHOULDER BELT</td>\n",
              "      <td>NaN</td>\n",
              "      <td>NaN</td>\n",
              "      <td>NaN</td>\n",
              "      <td>NaN</td>\n",
              "      <td>NaN</td>\n",
              "      <td>NaN</td>\n",
              "      <td>NaN</td>\n",
              "      <td>NaN</td>\n",
              "      <td>NaN</td>\n",
              "      <td>NaN</td>\n",
              "      <td>NaN</td>\n",
              "      <td>2000-09-11</td>\n",
              "      <td>2000</td>\n",
              "      <td>September</td>\n",
              "      <td>Monday</td>\n",
              "      <td>1</td>\n",
              "      <td>1</td>\n",
              "      <td>0</td>\n",
              "      <td>0</td>\n",
              "    </tr>\n",
              "    <tr>\n",
              "      <th>3</th>\n",
              "      <td>2</td>\n",
              "      <td>850</td>\n",
              "      <td>-79.456271</td>\n",
              "      <td>43.727698</td>\n",
              "      <td>YORKDALE</td>\n",
              "      <td>RD</td>\n",
              "      <td>W</td>\n",
              "      <td>401 C E YORKDALE W RAMP</td>\n",
              "      <td>RD</td>\n",
              "      <td>NaN</td>\n",
              "      <td>NaN</td>\n",
              "      <td>NaN</td>\n",
              "      <td>NaN</td>\n",
              "      <td>Minor Arterial</td>\n",
              "      <td>CLEAR</td>\n",
              "      <td>DAYLIGHT</td>\n",
              "      <td>DRY</td>\n",
              "      <td>NO CONTROL</td>\n",
              "      <td>0.0</td>\n",
              "      <td>NaN</td>\n",
              "      <td>NaN</td>\n",
              "      <td>OTHER</td>\n",
              "      <td>PASSENGER</td>\n",
              "      <td>MINIMAL</td>\n",
              "      <td>LAP AND SHOULDER BELT</td>\n",
              "      <td>NaN</td>\n",
              "      <td>NaN</td>\n",
              "      <td>NaN</td>\n",
              "      <td>NaN</td>\n",
              "      <td>NaN</td>\n",
              "      <td>NaN</td>\n",
              "      <td>NaN</td>\n",
              "      <td>NaN</td>\n",
              "      <td>NaN</td>\n",
              "      <td>NaN</td>\n",
              "      <td>NaN</td>\n",
              "      <td>2000-09-11</td>\n",
              "      <td>2000</td>\n",
              "      <td>September</td>\n",
              "      <td>Monday</td>\n",
              "      <td>1</td>\n",
              "      <td>1</td>\n",
              "      <td>0</td>\n",
              "      <td>0</td>\n",
              "    </tr>\n",
              "    <tr>\n",
              "      <th>4</th>\n",
              "      <td>2</td>\n",
              "      <td>850</td>\n",
              "      <td>-79.456271</td>\n",
              "      <td>43.727698</td>\n",
              "      <td>YORKDALE</td>\n",
              "      <td>RD</td>\n",
              "      <td>W</td>\n",
              "      <td>401 C E YORKDALE W RAMP</td>\n",
              "      <td>RD</td>\n",
              "      <td>NaN</td>\n",
              "      <td>NaN</td>\n",
              "      <td>NaN</td>\n",
              "      <td>NaN</td>\n",
              "      <td>Minor Arterial</td>\n",
              "      <td>CLEAR</td>\n",
              "      <td>DAYLIGHT</td>\n",
              "      <td>DRY</td>\n",
              "      <td>NO CONTROL</td>\n",
              "      <td>4.0</td>\n",
              "      <td>NaN</td>\n",
              "      <td>UNKNOWN</td>\n",
              "      <td>OTHER</td>\n",
              "      <td>VEHICLE OWNER</td>\n",
              "      <td>NONE</td>\n",
              "      <td>NaN</td>\n",
              "      <td>NaN</td>\n",
              "      <td>NaN</td>\n",
              "      <td>NaN</td>\n",
              "      <td>NaN</td>\n",
              "      <td>NaN</td>\n",
              "      <td>NaN</td>\n",
              "      <td>NaN</td>\n",
              "      <td>NaN</td>\n",
              "      <td>TURNING RIGHT</td>\n",
              "      <td>NaN</td>\n",
              "      <td>NaN</td>\n",
              "      <td>2000-09-11</td>\n",
              "      <td>2000</td>\n",
              "      <td>September</td>\n",
              "      <td>Monday</td>\n",
              "      <td>1</td>\n",
              "      <td>0</td>\n",
              "      <td>0</td>\n",
              "      <td>0</td>\n",
              "    </tr>\n",
              "    <tr>\n",
              "      <th>...</th>\n",
              "      <td>...</td>\n",
              "      <td>...</td>\n",
              "      <td>...</td>\n",
              "      <td>...</td>\n",
              "      <td>...</td>\n",
              "      <td>...</td>\n",
              "      <td>...</td>\n",
              "      <td>...</td>\n",
              "      <td>...</td>\n",
              "      <td>...</td>\n",
              "      <td>...</td>\n",
              "      <td>...</td>\n",
              "      <td>...</td>\n",
              "      <td>...</td>\n",
              "      <td>...</td>\n",
              "      <td>...</td>\n",
              "      <td>...</td>\n",
              "      <td>...</td>\n",
              "      <td>...</td>\n",
              "      <td>...</td>\n",
              "      <td>...</td>\n",
              "      <td>...</td>\n",
              "      <td>...</td>\n",
              "      <td>...</td>\n",
              "      <td>...</td>\n",
              "      <td>...</td>\n",
              "      <td>...</td>\n",
              "      <td>...</td>\n",
              "      <td>...</td>\n",
              "      <td>...</td>\n",
              "      <td>...</td>\n",
              "      <td>...</td>\n",
              "      <td>...</td>\n",
              "      <td>...</td>\n",
              "      <td>...</td>\n",
              "      <td>...</td>\n",
              "      <td>...</td>\n",
              "      <td>...</td>\n",
              "      <td>...</td>\n",
              "      <td>...</td>\n",
              "      <td>...</td>\n",
              "      <td>...</td>\n",
              "      <td>...</td>\n",
              "      <td>...</td>\n",
              "    </tr>\n",
              "    <tr>\n",
              "      <th>2601707</th>\n",
              "      <td>1038396</td>\n",
              "      <td>2200</td>\n",
              "      <td>-79.351940</td>\n",
              "      <td>43.677554</td>\n",
              "      <td>DANFORTH AV</td>\n",
              "      <td>NaN</td>\n",
              "      <td>NaN</td>\n",
              "      <td>CHESTER AV</td>\n",
              "      <td>NaN</td>\n",
              "      <td>NaN</td>\n",
              "      <td>22 m East of</td>\n",
              "      <td>NaN</td>\n",
              "      <td>NaN</td>\n",
              "      <td>Major Arterial</td>\n",
              "      <td>CLEAR</td>\n",
              "      <td>DARK, ARTIFICIAL</td>\n",
              "      <td>DRY</td>\n",
              "      <td>NO CONTROL</td>\n",
              "      <td>3.0</td>\n",
              "      <td>AUTOMOBILE, STATION WAGON</td>\n",
              "      <td>EAST</td>\n",
              "      <td>TURNING MOVEMENT</td>\n",
              "      <td>DRIVER</td>\n",
              "      <td>NONE</td>\n",
              "      <td>USE UNKNOWN</td>\n",
              "      <td>NaN</td>\n",
              "      <td>NORMAL</td>\n",
              "      <td>NaN</td>\n",
              "      <td>NaN</td>\n",
              "      <td>NaN</td>\n",
              "      <td>NaN</td>\n",
              "      <td>NaN</td>\n",
              "      <td>NaN</td>\n",
              "      <td>PARKED</td>\n",
              "      <td>40.0</td>\n",
              "      <td>0.0</td>\n",
              "      <td>2019-05-10</td>\n",
              "      <td>2019</td>\n",
              "      <td>May</td>\n",
              "      <td>Friday</td>\n",
              "      <td>1</td>\n",
              "      <td>0</td>\n",
              "      <td>0</td>\n",
              "      <td>0</td>\n",
              "    </tr>\n",
              "    <tr>\n",
              "      <th>2601708</th>\n",
              "      <td>1038396</td>\n",
              "      <td>2200</td>\n",
              "      <td>-79.351940</td>\n",
              "      <td>43.677554</td>\n",
              "      <td>DANFORTH AV</td>\n",
              "      <td>NaN</td>\n",
              "      <td>NaN</td>\n",
              "      <td>CHESTER AV</td>\n",
              "      <td>NaN</td>\n",
              "      <td>NaN</td>\n",
              "      <td>22 m East of</td>\n",
              "      <td>NaN</td>\n",
              "      <td>NaN</td>\n",
              "      <td>Major Arterial</td>\n",
              "      <td>CLEAR</td>\n",
              "      <td>DARK, ARTIFICIAL</td>\n",
              "      <td>DRY</td>\n",
              "      <td>NO CONTROL</td>\n",
              "      <td>2.0</td>\n",
              "      <td>NaN</td>\n",
              "      <td>NaN</td>\n",
              "      <td>TURNING MOVEMENT</td>\n",
              "      <td>PASSENGER</td>\n",
              "      <td>MINOR</td>\n",
              "      <td>USE UNKNOWN</td>\n",
              "      <td>NaN</td>\n",
              "      <td>NaN</td>\n",
              "      <td>NaN</td>\n",
              "      <td>NaN</td>\n",
              "      <td>NaN</td>\n",
              "      <td>NaN</td>\n",
              "      <td>NaN</td>\n",
              "      <td>NaN</td>\n",
              "      <td>NaN</td>\n",
              "      <td>NaN</td>\n",
              "      <td>NaN</td>\n",
              "      <td>2019-05-10</td>\n",
              "      <td>2019</td>\n",
              "      <td>May</td>\n",
              "      <td>Friday</td>\n",
              "      <td>1</td>\n",
              "      <td>1</td>\n",
              "      <td>0</td>\n",
              "      <td>0</td>\n",
              "    </tr>\n",
              "    <tr>\n",
              "      <th>2601709</th>\n",
              "      <td>1038397</td>\n",
              "      <td>2236</td>\n",
              "      <td>-79.314602</td>\n",
              "      <td>43.678378</td>\n",
              "      <td>GERRARD ST E</td>\n",
              "      <td>NaN</td>\n",
              "      <td>NaN</td>\n",
              "      <td>BOWMORE RD</td>\n",
              "      <td>NaN</td>\n",
              "      <td>NaN</td>\n",
              "      <td>43 m East of</td>\n",
              "      <td>NaN</td>\n",
              "      <td>NaN</td>\n",
              "      <td>Minor Arterial</td>\n",
              "      <td>RAIN</td>\n",
              "      <td>DARK, ARTIFICIAL</td>\n",
              "      <td>WET</td>\n",
              "      <td>NO CONTROL</td>\n",
              "      <td>1.0</td>\n",
              "      <td>AUTOMOBILE, STATION WAGON</td>\n",
              "      <td>EAST</td>\n",
              "      <td>SMV UNATTENDED VEHICLE</td>\n",
              "      <td>DRIVER</td>\n",
              "      <td>NONE</td>\n",
              "      <td>USE UNKNOWN</td>\n",
              "      <td>OTHER</td>\n",
              "      <td>UNKNOWN</td>\n",
              "      <td>NaN</td>\n",
              "      <td>NaN</td>\n",
              "      <td>NaN</td>\n",
              "      <td>NaN</td>\n",
              "      <td>NaN</td>\n",
              "      <td>NaN</td>\n",
              "      <td>GOING AHEAD</td>\n",
              "      <td>40.0</td>\n",
              "      <td>50.0</td>\n",
              "      <td>2019-07-20</td>\n",
              "      <td>2019</td>\n",
              "      <td>July</td>\n",
              "      <td>Saturday</td>\n",
              "      <td>1</td>\n",
              "      <td>0</td>\n",
              "      <td>0</td>\n",
              "      <td>0</td>\n",
              "    </tr>\n",
              "    <tr>\n",
              "      <th>2601710</th>\n",
              "      <td>1038398</td>\n",
              "      <td>938</td>\n",
              "      <td>-79.372333</td>\n",
              "      <td>43.651519</td>\n",
              "      <td>JARVIS ST</td>\n",
              "      <td>NaN</td>\n",
              "      <td>NaN</td>\n",
              "      <td>ADELAIDE ST E</td>\n",
              "      <td>NaN</td>\n",
              "      <td>NaN</td>\n",
              "      <td>NaN</td>\n",
              "      <td>NaN</td>\n",
              "      <td>NaN</td>\n",
              "      <td>Major Arterial</td>\n",
              "      <td>CLEAR</td>\n",
              "      <td>DAYLIGHT</td>\n",
              "      <td>DRY</td>\n",
              "      <td>TRAFFIC SIGNAL</td>\n",
              "      <td>1.0</td>\n",
              "      <td>NaN</td>\n",
              "      <td>NaN</td>\n",
              "      <td>PEDESTRIAN COLLISIONS</td>\n",
              "      <td>PEDESTRIAN</td>\n",
              "      <td>MINOR</td>\n",
              "      <td>USE UNKNOWN</td>\n",
              "      <td>NaN</td>\n",
              "      <td>NaN</td>\n",
              "      <td>NaN</td>\n",
              "      <td>NORMAL</td>\n",
              "      <td>NaN</td>\n",
              "      <td>NaN</td>\n",
              "      <td>NaN</td>\n",
              "      <td>NaN</td>\n",
              "      <td>NaN</td>\n",
              "      <td>NaN</td>\n",
              "      <td>NaN</td>\n",
              "      <td>2019-10-08</td>\n",
              "      <td>2019</td>\n",
              "      <td>October</td>\n",
              "      <td>Tuesday</td>\n",
              "      <td>1</td>\n",
              "      <td>1</td>\n",
              "      <td>0</td>\n",
              "      <td>0</td>\n",
              "    </tr>\n",
              "    <tr>\n",
              "      <th>2601711</th>\n",
              "      <td>1038398</td>\n",
              "      <td>938</td>\n",
              "      <td>-79.372333</td>\n",
              "      <td>43.651519</td>\n",
              "      <td>JARVIS ST</td>\n",
              "      <td>NaN</td>\n",
              "      <td>NaN</td>\n",
              "      <td>ADELAIDE ST E</td>\n",
              "      <td>NaN</td>\n",
              "      <td>NaN</td>\n",
              "      <td>NaN</td>\n",
              "      <td>NaN</td>\n",
              "      <td>NaN</td>\n",
              "      <td>Major Arterial</td>\n",
              "      <td>CLEAR</td>\n",
              "      <td>DAYLIGHT</td>\n",
              "      <td>DRY</td>\n",
              "      <td>TRAFFIC SIGNAL</td>\n",
              "      <td>1.0</td>\n",
              "      <td>PICK UP TRUCK</td>\n",
              "      <td>EAST</td>\n",
              "      <td>PEDESTRIAN COLLISIONS</td>\n",
              "      <td>DRIVER</td>\n",
              "      <td>NONE</td>\n",
              "      <td>USE UNKNOWN</td>\n",
              "      <td>FAILED TO YIELD RIGHT OF WAY</td>\n",
              "      <td>INATTENTIVE</td>\n",
              "      <td>NaN</td>\n",
              "      <td>NaN</td>\n",
              "      <td>NaN</td>\n",
              "      <td>NaN</td>\n",
              "      <td>NaN</td>\n",
              "      <td>NaN</td>\n",
              "      <td>TURNING LEFT</td>\n",
              "      <td>50.0</td>\n",
              "      <td>30.0</td>\n",
              "      <td>2019-10-08</td>\n",
              "      <td>2019</td>\n",
              "      <td>October</td>\n",
              "      <td>Tuesday</td>\n",
              "      <td>1</td>\n",
              "      <td>0</td>\n",
              "      <td>0</td>\n",
              "      <td>0</td>\n",
              "    </tr>\n",
              "  </tbody>\n",
              "</table>\n",
              "<p>2449693 rows × 44 columns</p>\n",
              "</div>"
            ],
            "text/plain": [
              "         collision_no  acctime  longitude  ...  # injured # fatalities # KSI\n",
              "0                   1      850 -79.456317  ...          0            0     0\n",
              "1                   1      850 -79.456317  ...          0            0     0\n",
              "2                   2      850 -79.456271  ...          1            0     0\n",
              "3                   2      850 -79.456271  ...          1            0     0\n",
              "4                   2      850 -79.456271  ...          0            0     0\n",
              "...               ...      ...        ...  ...        ...          ...   ...\n",
              "2601707       1038396     2200 -79.351940  ...          0            0     0\n",
              "2601708       1038396     2200 -79.351940  ...          1            0     0\n",
              "2601709       1038397     2236 -79.314602  ...          0            0     0\n",
              "2601710       1038398      938 -79.372333  ...          1            0     0\n",
              "2601711       1038398      938 -79.372333  ...          0            0     0\n",
              "\n",
              "[2449693 rows x 44 columns]"
            ]
          },
          "metadata": {
            "tags": []
          },
          "execution_count": 16
        }
      ]
    },
    {
      "cell_type": "code",
      "metadata": {
        "trusted": true,
        "id": "yqOGBh1gD852",
        "colab_type": "code",
        "colab": {}
      },
      "source": [
        "############### In the 'Main' notebook, here dfE is created: the dataframe of \"Collisions-Events\" from df1 ###################################################################"
      ],
      "execution_count": 0,
      "outputs": []
    },
    {
      "cell_type": "code",
      "metadata": {
        "trusted": true,
        "id": "z09i3aR8D854",
        "colab_type": "code",
        "colab": {}
      },
      "source": [
        "# Create df2 from df1 and reset its index (as some rows are already dropped)\n",
        "df2 = df1.copy()\n",
        "df2.reset_index(inplace=True)"
      ],
      "execution_count": 0,
      "outputs": []
    },
    {
      "cell_type": "code",
      "metadata": {
        "trusted": true,
        "id": "cKFCRLFfD85_",
        "colab_type": "code",
        "colab": {
          "base_uri": "https://localhost:8080/",
          "height": 782
        },
        "outputId": "48e2c425-f315-44c9-c9a5-f493d67c2e4f"
      },
      "source": [
        "for column in df2.columns:\n",
        "    print('# nan in \"{}\": {:,}'.format(column, df2[column].isna().sum()))"
      ],
      "execution_count": 19,
      "outputs": [
        {
          "output_type": "stream",
          "text": [
            "# nan in \"index\": 0\n",
            "# nan in \"collision_no\": 0\n",
            "# nan in \"acctime\": 0\n",
            "# nan in \"longitude\": 0\n",
            "# nan in \"latitude\": 0\n",
            "# nan in \"stname1\": 6\n",
            "# nan in \"streetype1\": 610,486\n",
            "# nan in \"dir1\": 1,813,420\n",
            "# nan in \"stname2\": 330,820\n",
            "# nan in \"streetype2\": 848,876\n",
            "# nan in \"dir2\": 2,106,067\n",
            "# nan in \"stname3\": 2,343,532\n",
            "# nan in \"streetype3\": 2,449,693\n",
            "# nan in \"dir3\": 2,449,693\n",
            "# nan in \"road_class\": 95,433\n",
            "# nan in \"visibility\": 6,842\n",
            "# nan in \"light\": 255\n",
            "# nan in \"road_surface_cond\": 1,426\n",
            "# nan in \"traffic_control\": 13,333\n",
            "# nan in \"vehicle_no\": 48\n",
            "# nan in \"vehicle_class\": 161,514\n",
            "# nan in \"initial_dir\": 563,051\n",
            "# nan in \"impact_type\": 285\n",
            "# nan in \"involved_class\": 0\n",
            "# nan in \"involved_injury_class\": 0\n",
            "# nan in \"safety_equip_used\": 597,098\n",
            "# nan in \"driver_action\": 1,291,119\n",
            "# nan in \"driver_condition\": 1,297,659\n",
            "# nan in \"pedestrian_action\": 2,413,049\n",
            "# nan in \"pedestrian_condition\": 2,411,785\n",
            "# nan in \"pedestrian_collision_type\": 2,417,365\n",
            "# nan in \"cyclist_action\": 2,433,938\n",
            "# nan in \"cyclist_condition\": 2,449,693\n",
            "# nan in \"cyclist_collision_type\": 2,433,683\n",
            "# nan in \"manoeuver\": 260,159\n",
            "# nan in \"posted_speed\": 2,319,433\n",
            "# nan in \"actual_speed\": 2,326,075\n",
            "# nan in \"acc_date\": 0\n",
            "# nan in \"year\": 0\n",
            "# nan in \"month_name\": 0\n",
            "# nan in \"day_name\": 0\n",
            "# nan in \"# involved\": 0\n",
            "# nan in \"# injured\": 0\n",
            "# nan in \"# fatalities\": 0\n",
            "# nan in \"# KSI\": 0\n"
          ],
          "name": "stdout"
        }
      ]
    },
    {
      "cell_type": "code",
      "metadata": {
        "id": "4ZP0tLwoiv1o",
        "colab_type": "code",
        "colab": {
          "base_uri": "https://localhost:8080/",
          "height": 119
        },
        "outputId": "4208ce36-8689-4844-aa05-94a2e36a27a8"
      },
      "source": [
        "df2['manoeuver'].unique()"
      ],
      "execution_count": 20,
      "outputs": [
        {
          "output_type": "execute_result",
          "data": {
            "text/plain": [
              "array(['TURNING LEFT', 'GOING AHEAD', nan, 'TURNING RIGHT',\n",
              "       'SLOWING OR STOPPING', 'PULLING AWAY FROM SHOULDER OR CURB',\n",
              "       'UNKNOWN', 'STOPPED', 'CHANGING LANES', 'PARKED',\n",
              "       'PULLING ONTO SHOULDER OR TOWARDCURB', 'REVERSING', 'OTHER',\n",
              "       'MAKING \"U\" TURN', 'DISABLED', 'OVERTAKING', 'MERGING',\n",
              "       'STOPPED OR PARKED'], dtype=object)"
            ]
          },
          "metadata": {
            "tags": []
          },
          "execution_count": 20
        }
      ]
    },
    {
      "cell_type": "code",
      "metadata": {
        "id": "OkeAWZuOjJoh",
        "colab_type": "code",
        "colab": {
          "base_uri": "https://localhost:8080/",
          "height": 34
        },
        "outputId": "77674ec2-683e-42c6-b743-ddd450848490"
      },
      "source": [
        "print('In addition to {:,} nan values for \"manoeuver\", there are {:,} \"UNKNOWN\" (not \"OTHER\") elements in it.'\n",
        "    .format(df2['manoeuver'].isna().sum(), \n",
        "            df2[df2['manoeuver']=='UNKNOWN'].shape[0]))"
      ],
      "execution_count": 21,
      "outputs": [
        {
          "output_type": "stream",
          "text": [
            "In addition to 260,159 nan values for \"manoeuver\", there are 326,385 \"UNKNOWN\" (not \"OTHER\") elements in it.\n"
          ],
          "name": "stdout"
        }
      ]
    },
    {
      "cell_type": "code",
      "metadata": {
        "id": "NJZsY5OWtaSX",
        "colab_type": "code",
        "colab": {
          "base_uri": "https://localhost:8080/",
          "height": 136
        },
        "outputId": "ce8d54a7-b9d3-4193-e9da-cac2892ec5ab"
      },
      "source": [
        "df2['involved_class'].unique()"
      ],
      "execution_count": 22,
      "outputs": [
        {
          "output_type": "execute_result",
          "data": {
            "text/plain": [
              "array(['DRIVER', 'PASSENGER', 'VEHICLE OWNER', 'OTHER',\n",
              "       'OTHER PROPERTY OWNER', 'TRUCK DRIVER', 'PEDESTRIAN', 'CYCLIST',\n",
              "       'WITNESS', 'MOTORCYCLE DRIVER', 'RUNAWAY - NO DRIVER',\n",
              "       'WHEELCHAIR', 'IN-LINE SKATER', 'MOPED DRIVER', 'UNKNOWN - FTR',\n",
              "       'DRIVER - NOT HIT', 'TRAILER OWNER', 'MOTORCYCLE PASSENGER',\n",
              "       'CYCLIST - NOT HIT', 'MOPED PASSENGER', 'CYCLIST PASSENGER',\n",
              "       'ANIMAL', 'PEDESTRIAN - NOT HIT'], dtype=object)"
            ]
          },
          "metadata": {
            "tags": []
          },
          "execution_count": 22
        }
      ]
    },
    {
      "cell_type": "code",
      "metadata": {
        "id": "QqGGGGtsoKPE",
        "colab_type": "code",
        "colab": {
          "base_uri": "https://localhost:8080/",
          "height": 119
        },
        "outputId": "fd1724ed-1b4f-4685-f62e-3295db0bb15b"
      },
      "source": [
        "df2['driver_action'].unique()"
      ],
      "execution_count": 23,
      "outputs": [
        {
          "output_type": "execute_result",
          "data": {
            "text/plain": [
              "array([nan, 'DRIVING PROPERLY', 'FAILED TO YIELD RIGHT OF WAY',\n",
              "       'IMPROPER LANE CHANGE', 'IMPROPER TURN',\n",
              "       'DISOBEYED TRAFFIC CONTROL', 'FOLLOWING TOO CLOSE', 'OTHER',\n",
              "       'LOST CONTROL', 'SPEED TOO FAST FOR CONDITION', 'IMPROPER PASSING',\n",
              "       'EXCEEDING SPEED LIMIT', 'SPEED TOO SLOW',\n",
              "       'WRONG WAY ON ONE WAY ROAD'], dtype=object)"
            ]
          },
          "metadata": {
            "tags": []
          },
          "execution_count": 23
        }
      ]
    },
    {
      "cell_type": "code",
      "metadata": {
        "id": "XIQQRNbNm-ew",
        "colab_type": "code",
        "colab": {
          "base_uri": "https://localhost:8080/",
          "height": 34
        },
        "outputId": "e6b523a2-ca46-4c36-89ff-498cf6344701"
      },
      "source": [
        "print('There are {:,} accident points where \"involved_class\" is \"DRIVER\". But out of them {:,} \"driver_action\" is nan.'.\n",
        "      format(df2[df2['involved_class']=='DRIVER'].shape[0], \n",
        "             df2[(df2['involved_class']=='DRIVER') & (df2['driver_action'].isna())].shape[0]))"
      ],
      "execution_count": 24,
      "outputs": [
        {
          "output_type": "stream",
          "text": [
            "There are 1,807,193 accident points where \"involved_class\" is \"DRIVER\". But out of them 690,989 \"driver_action\" is nan.\n"
          ],
          "name": "stdout"
        }
      ]
    },
    {
      "cell_type": "code",
      "metadata": {
        "id": "TZkJv2Yzrzq6",
        "colab_type": "code",
        "colab": {
          "base_uri": "https://localhost:8080/",
          "height": 187
        },
        "outputId": "8091a0ad-9ea6-4930-9413-9947f5d1edc6"
      },
      "source": [
        "df2['pedestrian_action'].unique()"
      ],
      "execution_count": 25,
      "outputs": [
        {
          "output_type": "execute_result",
          "data": {
            "text/plain": [
              "array([nan, 'CROSSING WITHOUT RIGHT OF WAY', 'OTHER',\n",
              "       'ON SIDEWALK OR SHOULDER', 'CROSSING WITH RIGHT OF WAY',\n",
              "       'COMING FROM BEHIND PARKED VEHICLE',\n",
              "       'CROSSING, NO TRAFFIC CONTROL', 'RUNNING ONTO ROADWAY',\n",
              "       'WALKING ON ROADWAY WITH TRAFFIC', 'PERSON GETTING ON/OFF VEHICLE',\n",
              "       'CROSSING, PEDESTRIAN CROSSOVER', 'PUSHING/WORKING ON VEHICLE',\n",
              "       'PLAYING OR WORKING ON HIGHWAY',\n",
              "       'CROSSING MARKED CROSSWALK WITHOUT ROW',\n",
              "       'WALKING ON ROADWAY AGAINST TRAFFIC',\n",
              "       'PERSON GETTING ON/OFF SCHOOL BUS'], dtype=object)"
            ]
          },
          "metadata": {
            "tags": []
          },
          "execution_count": 25
        }
      ]
    },
    {
      "cell_type": "code",
      "metadata": {
        "id": "uhFrgltFsIEv",
        "colab_type": "code",
        "colab": {
          "base_uri": "https://localhost:8080/",
          "height": 34
        },
        "outputId": "7c34e141-ca3b-4aee-bfa5-b5cea5e345bf"
      },
      "source": [
        "print('There are {:,} accident points where \"involved_class\" is \"PEDESTRIAN\". But out of them {:,} \"pedestrian_action\" is nan.'.\n",
        "      format(df2[df2['involved_class']=='PEDESTRIAN'].shape[0], \n",
        "             df2[(df2['involved_class']=='PEDESTRIAN') & (df2['pedestrian_action'].isna())].shape[0]))"
      ],
      "execution_count": 26,
      "outputs": [
        {
          "output_type": "stream",
          "text": [
            "There are 38,374 accident points where \"involved_class\" is \"PEDESTRIAN\". But out of them 2,165 \"pedestrian_action\" is nan.\n"
          ],
          "name": "stdout"
        }
      ]
    },
    {
      "cell_type": "code",
      "metadata": {
        "id": "kYmn2WIQqxKM",
        "colab_type": "code",
        "colab": {
          "base_uri": "https://localhost:8080/",
          "height": 102
        },
        "outputId": "0e43c15a-3ef7-4997-c495-0a123a51609e"
      },
      "source": [
        "df2['cyclist_action'].unique()"
      ],
      "execution_count": 27,
      "outputs": [
        {
          "output_type": "execute_result",
          "data": {
            "text/plain": [
              "array([nan, 'FAILED TO YIELD RIGHT OF WAY', 'OTHER', 'DRIVING PROPERLY',\n",
              "       'DISOBEYED TRAFFIC CONTROL', 'IMPROPER TURN', 'LOST CONTROL',\n",
              "       'SPEED TOO FAST FOR CONDITION', 'IMPROPER LANE CHANGE',\n",
              "       'IMPROPER PASSING', 'EXCEEDING SPEED LIMIT', 'FOLLOWING TOO CLOSE',\n",
              "       'WRONG WAY ON ONE WAY ROAD', 'SPEED TOO SLOW'], dtype=object)"
            ]
          },
          "metadata": {
            "tags": []
          },
          "execution_count": 27
        }
      ]
    },
    {
      "cell_type": "code",
      "metadata": {
        "id": "9qM_TS8Gqw9t",
        "colab_type": "code",
        "colab": {
          "base_uri": "https://localhost:8080/",
          "height": 34
        },
        "outputId": "c85f4315-2514-43f3-e12f-c4cf6410b5b9"
      },
      "source": [
        "print('There are {:,} accident points where \"involved_class\" is \"CYCLIST\". But out of them {:,} \"cyclist_action\" is nan.'.\n",
        "      format(df2[df2['involved_class']=='CYCLIST'].shape[0], \n",
        "             df2[(df2['involved_class']=='CYCLIST') & (df2['cyclist_action'].isna())].shape[0]))"
      ],
      "execution_count": 28,
      "outputs": [
        {
          "output_type": "stream",
          "text": [
            "There are 22,761 accident points where \"involved_class\" is \"CYCLIST\". But out of them 7,030 \"cyclist_action\" is nan.\n"
          ],
          "name": "stdout"
        }
      ]
    },
    {
      "cell_type": "markdown",
      "metadata": {
        "id": "UgZ0YM4CxANV",
        "colab_type": "text"
      },
      "source": [
        "!!!!!!!!!!!!!!!!!!!!!!!!!!!!!!!!!!!!!!!!!!!!!!!!!!!!!!!!!!!!!!!!!!!!!!!!!!!!!!!!!!!!!!!!!!!!!!!!!!!!!!!!!!!!!"
      ]
    },
    {
      "cell_type": "code",
      "metadata": {
        "trusted": true,
        "id": "2EB4Z3LiD86C",
        "colab_type": "code",
        "colab": {}
      },
      "source": [
        "# Drop the following columns form df2 as they contain too many 'nan' and also UNKNOWN elements. \n",
        "df2.drop(['streetype1', 'dir1', 'streetype2', 'dir2', 'streetype3', 'dir3', 'initial_dir', 'safety_equip_used', \n",
        "          'driver_action', 'driver_condition', 'pedestrian_action', 'pedestrian_condition', 'pedestrian_collision_type', 'cyclist_action', 'cyclist_condition', 'cyclist_collision_type',\n",
        "         'manoeuver', 'posted_speed', 'actual_speed'], axis=1, inplace=True)"
      ],
      "execution_count": 0,
      "outputs": []
    },
    {
      "cell_type": "code",
      "metadata": {
        "trusted": true,
        "id": "oVJWNVPcD86E",
        "colab_type": "code",
        "colab": {
          "base_uri": "https://localhost:8080/",
          "height": 459
        },
        "outputId": "79e2741d-5097-434f-db9c-68b46b102424"
      },
      "source": [
        "for column in df2.columns:\n",
        "    print('# nan in \"{}\": {:,}'.format(column, df2[column].isna().sum()))"
      ],
      "execution_count": 30,
      "outputs": [
        {
          "output_type": "stream",
          "text": [
            "# nan in \"index\": 0\n",
            "# nan in \"collision_no\": 0\n",
            "# nan in \"acctime\": 0\n",
            "# nan in \"longitude\": 0\n",
            "# nan in \"latitude\": 0\n",
            "# nan in \"stname1\": 6\n",
            "# nan in \"stname2\": 330,820\n",
            "# nan in \"stname3\": 2,343,532\n",
            "# nan in \"road_class\": 95,433\n",
            "# nan in \"visibility\": 6,842\n",
            "# nan in \"light\": 255\n",
            "# nan in \"road_surface_cond\": 1,426\n",
            "# nan in \"traffic_control\": 13,333\n",
            "# nan in \"vehicle_no\": 48\n",
            "# nan in \"vehicle_class\": 161,514\n",
            "# nan in \"impact_type\": 285\n",
            "# nan in \"involved_class\": 0\n",
            "# nan in \"involved_injury_class\": 0\n",
            "# nan in \"acc_date\": 0\n",
            "# nan in \"year\": 0\n",
            "# nan in \"month_name\": 0\n",
            "# nan in \"day_name\": 0\n",
            "# nan in \"# involved\": 0\n",
            "# nan in \"# injured\": 0\n",
            "# nan in \"# fatalities\": 0\n",
            "# nan in \"# KSI\": 0\n"
          ],
          "name": "stdout"
        }
      ]
    },
    {
      "cell_type": "code",
      "metadata": {
        "trusted": true,
        "id": "dwpLzOsRD86F",
        "colab_type": "code",
        "colab": {
          "base_uri": "https://localhost:8080/",
          "height": 68
        },
        "outputId": "d262d049-d7e0-4adb-eaac-d46dd8d36e72"
      },
      "source": [
        "df2['impact_type'].unique()"
      ],
      "execution_count": 31,
      "outputs": [
        {
          "output_type": "execute_result",
          "data": {
            "text/plain": [
              "array(['TURNING MOVEMENT', 'OTHER', 'SIDESWIPE', 'ANGLE', 'REAR END',\n",
              "       'SMV UNATTENDED VEHICLE', 'APPROACHING', 'SMV OTHER',\n",
              "       'PEDESTRIAN COLLISIONS', 'CYCLIST COLLISIONS', nan], dtype=object)"
            ]
          },
          "metadata": {
            "tags": []
          },
          "execution_count": 31
        }
      ]
    },
    {
      "cell_type": "code",
      "metadata": {
        "id": "xNjA1uZVgqhO",
        "colab_type": "code",
        "colab": {
          "base_uri": "https://localhost:8080/",
          "height": 238
        },
        "outputId": "f8a00018-ae5f-4842-a441-d22c5458e660"
      },
      "source": [
        "df2['vehicle_class'].unique()"
      ],
      "execution_count": 32,
      "outputs": [
        {
          "output_type": "execute_result",
          "data": {
            "text/plain": [
              "array(['AUTOMOBILE, STATION WAGON', nan, 'TAXI', 'TRUCK - OPEN',\n",
              "       'MUNICIPAL TRANSIT BUS (TTC)', 'OTHER', 'BICYCLE', 'RICKSHAW',\n",
              "       'MOTORCYCLE', 'TRUCK - CLOSED (BLAZER, ETC)', 'PASSENGER VAN',\n",
              "       'MOPED', 'DELIVERY VAN', 'TRUCK-TRACTOR', 'PICK UP TRUCK',\n",
              "       'TRUCK (OTHER)', 'OFF ROAD - 4 WHEELS', 'TRUCK - DUMP',\n",
              "       'OTHER EMERGENCY VEHICLE', 'POLICE VEHICLE', 'TOW TRUNK',\n",
              "       'SCHOOL BUS', 'SCHOOL VAN', 'FIRE VEHICLE', 'OFF ROAD - 2 WHEELS',\n",
              "       'STREET CAR', 'FARM TRACTOR', 'BUS (OTHER) (GO BUS, GRAY COACH)',\n",
              "       'CONSTRUCTION EQUIPMENT', 'INTERCITY BUS', 'AMBULANCE',\n",
              "       'TRUCK - TANK', 'OTHER SCHOOL VEHICLE/BUS', 'SNOW PLOW',\n",
              "       'OFF ROAD - 3 WHEELS', 'TRUCK - CAR CARRIER',\n",
              "       'MOTORIZED SNOW VEHICLE', 'MOTOR HOME', 'OTHER FARM VEHICLE',\n",
              "       'OFF ROAD - OTHER', 'RAILWAY TRAIN'], dtype=object)"
            ]
          },
          "metadata": {
            "tags": []
          },
          "execution_count": 32
        }
      ]
    },
    {
      "cell_type": "code",
      "metadata": {
        "id": "FJ8rcXCJg6OG",
        "colab_type": "code",
        "colab": {
          "base_uri": "https://localhost:8080/",
          "height": 85
        },
        "outputId": "b3046734-7744-49a8-93c8-c6c5fcea2123"
      },
      "source": [
        "df2['traffic_control'].unique()"
      ],
      "execution_count": 33,
      "outputs": [
        {
          "output_type": "execute_result",
          "data": {
            "text/plain": [
              "array(['NO CONTROL', 'TRAFFIC SIGNAL', 'STOP SIGN',\n",
              "       'PEDESTRIAN CROSSOVER', 'YIELD SIGN', nan, 'TRAFFIC GATE',\n",
              "       'POLICE CONTROL', 'SCHOOL GUARD', 'TRAFFIC CONTROLLER',\n",
              "       'SCHOOL BUS', 'PXO - NO PED', 'STREETCAR (STOP FOR)'], dtype=object)"
            ]
          },
          "metadata": {
            "tags": []
          },
          "execution_count": 33
        }
      ]
    },
    {
      "cell_type": "code",
      "metadata": {
        "trusted": true,
        "id": "6m5b3dR2D86H",
        "colab_type": "code",
        "colab": {
          "base_uri": "https://localhost:8080/",
          "height": 34
        },
        "outputId": "2921ca94-efbc-4dcc-a9fc-ce7e5163bdd1"
      },
      "source": [
        "df2[df2['road_class']=='Other'].shape"
      ],
      "execution_count": 34,
      "outputs": [
        {
          "output_type": "execute_result",
          "data": {
            "text/plain": [
              "(5009, 26)"
            ]
          },
          "metadata": {
            "tags": []
          },
          "execution_count": 34
        }
      ]
    },
    {
      "cell_type": "code",
      "metadata": {
        "trusted": true,
        "id": "XSBA9epmD86K",
        "colab_type": "code",
        "colab": {
          "base_uri": "https://localhost:8080/",
          "height": 326
        },
        "outputId": "78d6755d-4cff-47c6-ecd7-99a9dbd97ff2"
      },
      "source": [
        "# Create df3 from df2 for detecting most important features: Drop some unuseful columns\n",
        "df3 = df2.copy()\n",
        "df3.drop(['index', 'stname1', 'stname2', 'stname3', 'traffic_control', 'vehicle_no', 'vehicle_class'],axis=1, inplace=True)\n",
        "\n",
        "# Drop 'month_name' and 'day_name' as they are string, we're going to extract the integer values from 'acc_date'\n",
        "df3.drop(['year', 'month_name', 'day_name'],axis=1, inplace=True)\n",
        "df3.head()"
      ],
      "execution_count": 35,
      "outputs": [
        {
          "output_type": "execute_result",
          "data": {
            "text/html": [
              "<div>\n",
              "<style scoped>\n",
              "    .dataframe tbody tr th:only-of-type {\n",
              "        vertical-align: middle;\n",
              "    }\n",
              "\n",
              "    .dataframe tbody tr th {\n",
              "        vertical-align: top;\n",
              "    }\n",
              "\n",
              "    .dataframe thead th {\n",
              "        text-align: right;\n",
              "    }\n",
              "</style>\n",
              "<table border=\"1\" class=\"dataframe\">\n",
              "  <thead>\n",
              "    <tr style=\"text-align: right;\">\n",
              "      <th></th>\n",
              "      <th>collision_no</th>\n",
              "      <th>acctime</th>\n",
              "      <th>longitude</th>\n",
              "      <th>latitude</th>\n",
              "      <th>road_class</th>\n",
              "      <th>visibility</th>\n",
              "      <th>light</th>\n",
              "      <th>road_surface_cond</th>\n",
              "      <th>impact_type</th>\n",
              "      <th>involved_class</th>\n",
              "      <th>involved_injury_class</th>\n",
              "      <th>acc_date</th>\n",
              "      <th># involved</th>\n",
              "      <th># injured</th>\n",
              "      <th># fatalities</th>\n",
              "      <th># KSI</th>\n",
              "    </tr>\n",
              "  </thead>\n",
              "  <tbody>\n",
              "    <tr>\n",
              "      <th>0</th>\n",
              "      <td>1</td>\n",
              "      <td>850</td>\n",
              "      <td>-79.456317</td>\n",
              "      <td>43.727732</td>\n",
              "      <td>Minor Arterial</td>\n",
              "      <td>CLEAR</td>\n",
              "      <td>DAYLIGHT</td>\n",
              "      <td>DRY</td>\n",
              "      <td>TURNING MOVEMENT</td>\n",
              "      <td>DRIVER</td>\n",
              "      <td>NONE</td>\n",
              "      <td>2000-09-11</td>\n",
              "      <td>1</td>\n",
              "      <td>0</td>\n",
              "      <td>0</td>\n",
              "      <td>0</td>\n",
              "    </tr>\n",
              "    <tr>\n",
              "      <th>1</th>\n",
              "      <td>1</td>\n",
              "      <td>850</td>\n",
              "      <td>-79.456317</td>\n",
              "      <td>43.727732</td>\n",
              "      <td>Minor Arterial</td>\n",
              "      <td>CLEAR</td>\n",
              "      <td>DAYLIGHT</td>\n",
              "      <td>DRY</td>\n",
              "      <td>TURNING MOVEMENT</td>\n",
              "      <td>DRIVER</td>\n",
              "      <td>NONE</td>\n",
              "      <td>2000-09-11</td>\n",
              "      <td>1</td>\n",
              "      <td>0</td>\n",
              "      <td>0</td>\n",
              "      <td>0</td>\n",
              "    </tr>\n",
              "    <tr>\n",
              "      <th>2</th>\n",
              "      <td>2</td>\n",
              "      <td>850</td>\n",
              "      <td>-79.456271</td>\n",
              "      <td>43.727698</td>\n",
              "      <td>Minor Arterial</td>\n",
              "      <td>CLEAR</td>\n",
              "      <td>DAYLIGHT</td>\n",
              "      <td>DRY</td>\n",
              "      <td>OTHER</td>\n",
              "      <td>PASSENGER</td>\n",
              "      <td>MINIMAL</td>\n",
              "      <td>2000-09-11</td>\n",
              "      <td>1</td>\n",
              "      <td>1</td>\n",
              "      <td>0</td>\n",
              "      <td>0</td>\n",
              "    </tr>\n",
              "    <tr>\n",
              "      <th>3</th>\n",
              "      <td>2</td>\n",
              "      <td>850</td>\n",
              "      <td>-79.456271</td>\n",
              "      <td>43.727698</td>\n",
              "      <td>Minor Arterial</td>\n",
              "      <td>CLEAR</td>\n",
              "      <td>DAYLIGHT</td>\n",
              "      <td>DRY</td>\n",
              "      <td>OTHER</td>\n",
              "      <td>PASSENGER</td>\n",
              "      <td>MINIMAL</td>\n",
              "      <td>2000-09-11</td>\n",
              "      <td>1</td>\n",
              "      <td>1</td>\n",
              "      <td>0</td>\n",
              "      <td>0</td>\n",
              "    </tr>\n",
              "    <tr>\n",
              "      <th>4</th>\n",
              "      <td>2</td>\n",
              "      <td>850</td>\n",
              "      <td>-79.456271</td>\n",
              "      <td>43.727698</td>\n",
              "      <td>Minor Arterial</td>\n",
              "      <td>CLEAR</td>\n",
              "      <td>DAYLIGHT</td>\n",
              "      <td>DRY</td>\n",
              "      <td>OTHER</td>\n",
              "      <td>VEHICLE OWNER</td>\n",
              "      <td>NONE</td>\n",
              "      <td>2000-09-11</td>\n",
              "      <td>1</td>\n",
              "      <td>0</td>\n",
              "      <td>0</td>\n",
              "      <td>0</td>\n",
              "    </tr>\n",
              "  </tbody>\n",
              "</table>\n",
              "</div>"
            ],
            "text/plain": [
              "   collision_no  acctime  longitude  ...  # injured # fatalities # KSI\n",
              "0             1      850 -79.456317  ...          0            0     0\n",
              "1             1      850 -79.456317  ...          0            0     0\n",
              "2             2      850 -79.456271  ...          1            0     0\n",
              "3             2      850 -79.456271  ...          1            0     0\n",
              "4             2      850 -79.456271  ...          0            0     0\n",
              "\n",
              "[5 rows x 16 columns]"
            ]
          },
          "metadata": {
            "tags": []
          },
          "execution_count": 35
        }
      ]
    },
    {
      "cell_type": "code",
      "metadata": {
        "trusted": true,
        "id": "xVtj3L0HD86M",
        "colab_type": "code",
        "colab": {
          "base_uri": "https://localhost:8080/",
          "height": 289
        },
        "outputId": "01db31e6-4d8f-4dac-b5fb-d0251d25b0b9"
      },
      "source": [
        "for column in df3.columns:\n",
        "    print('# nan in \"{}\": {:,}'.format(column, df3[column].isna().sum()))"
      ],
      "execution_count": 36,
      "outputs": [
        {
          "output_type": "stream",
          "text": [
            "# nan in \"collision_no\": 0\n",
            "# nan in \"acctime\": 0\n",
            "# nan in \"longitude\": 0\n",
            "# nan in \"latitude\": 0\n",
            "# nan in \"road_class\": 95,433\n",
            "# nan in \"visibility\": 6,842\n",
            "# nan in \"light\": 255\n",
            "# nan in \"road_surface_cond\": 1,426\n",
            "# nan in \"impact_type\": 285\n",
            "# nan in \"involved_class\": 0\n",
            "# nan in \"involved_injury_class\": 0\n",
            "# nan in \"acc_date\": 0\n",
            "# nan in \"# involved\": 0\n",
            "# nan in \"# injured\": 0\n",
            "# nan in \"# fatalities\": 0\n",
            "# nan in \"# KSI\": 0\n"
          ],
          "name": "stdout"
        }
      ]
    },
    {
      "cell_type": "code",
      "metadata": {
        "trusted": true,
        "id": "hXHwzQqKD86N",
        "colab_type": "code",
        "colab": {
          "base_uri": "https://localhost:8080/",
          "height": 289
        },
        "outputId": "74557ff3-3709-43d3-df8e-4f26fdd6e5f2"
      },
      "source": [
        "# Drop nan rows from df3\n",
        "df3.dropna(subset=['road_class', 'visibility', 'light', 'road_surface_cond', 'impact_type'], inplace=True )\n",
        "\n",
        "for column in df3.columns:\n",
        "    print('# nan in \"{}\": {:,}'.format(column, df3[column].isna().sum()))"
      ],
      "execution_count": 37,
      "outputs": [
        {
          "output_type": "stream",
          "text": [
            "# nan in \"collision_no\": 0\n",
            "# nan in \"acctime\": 0\n",
            "# nan in \"longitude\": 0\n",
            "# nan in \"latitude\": 0\n",
            "# nan in \"road_class\": 0\n",
            "# nan in \"visibility\": 0\n",
            "# nan in \"light\": 0\n",
            "# nan in \"road_surface_cond\": 0\n",
            "# nan in \"impact_type\": 0\n",
            "# nan in \"involved_class\": 0\n",
            "# nan in \"involved_injury_class\": 0\n",
            "# nan in \"acc_date\": 0\n",
            "# nan in \"# involved\": 0\n",
            "# nan in \"# injured\": 0\n",
            "# nan in \"# fatalities\": 0\n",
            "# nan in \"# KSI\": 0\n"
          ],
          "name": "stdout"
        }
      ]
    },
    {
      "cell_type": "code",
      "metadata": {
        "trusted": true,
        "id": "pWyoMUhsD86Q",
        "colab_type": "code",
        "colab": {
          "base_uri": "https://localhost:8080/",
          "height": 643
        },
        "outputId": "16a1ec55-1f79-4ea9-8908-b133ac76f42e"
      },
      "source": [
        "df3.reset_index(drop=True, inplace=True)\n",
        "df3"
      ],
      "execution_count": 38,
      "outputs": [
        {
          "output_type": "execute_result",
          "data": {
            "text/html": [
              "<div>\n",
              "<style scoped>\n",
              "    .dataframe tbody tr th:only-of-type {\n",
              "        vertical-align: middle;\n",
              "    }\n",
              "\n",
              "    .dataframe tbody tr th {\n",
              "        vertical-align: top;\n",
              "    }\n",
              "\n",
              "    .dataframe thead th {\n",
              "        text-align: right;\n",
              "    }\n",
              "</style>\n",
              "<table border=\"1\" class=\"dataframe\">\n",
              "  <thead>\n",
              "    <tr style=\"text-align: right;\">\n",
              "      <th></th>\n",
              "      <th>collision_no</th>\n",
              "      <th>acctime</th>\n",
              "      <th>longitude</th>\n",
              "      <th>latitude</th>\n",
              "      <th>road_class</th>\n",
              "      <th>visibility</th>\n",
              "      <th>light</th>\n",
              "      <th>road_surface_cond</th>\n",
              "      <th>impact_type</th>\n",
              "      <th>involved_class</th>\n",
              "      <th>involved_injury_class</th>\n",
              "      <th>acc_date</th>\n",
              "      <th># involved</th>\n",
              "      <th># injured</th>\n",
              "      <th># fatalities</th>\n",
              "      <th># KSI</th>\n",
              "    </tr>\n",
              "  </thead>\n",
              "  <tbody>\n",
              "    <tr>\n",
              "      <th>0</th>\n",
              "      <td>1</td>\n",
              "      <td>850</td>\n",
              "      <td>-79.456317</td>\n",
              "      <td>43.727732</td>\n",
              "      <td>Minor Arterial</td>\n",
              "      <td>CLEAR</td>\n",
              "      <td>DAYLIGHT</td>\n",
              "      <td>DRY</td>\n",
              "      <td>TURNING MOVEMENT</td>\n",
              "      <td>DRIVER</td>\n",
              "      <td>NONE</td>\n",
              "      <td>2000-09-11</td>\n",
              "      <td>1</td>\n",
              "      <td>0</td>\n",
              "      <td>0</td>\n",
              "      <td>0</td>\n",
              "    </tr>\n",
              "    <tr>\n",
              "      <th>1</th>\n",
              "      <td>1</td>\n",
              "      <td>850</td>\n",
              "      <td>-79.456317</td>\n",
              "      <td>43.727732</td>\n",
              "      <td>Minor Arterial</td>\n",
              "      <td>CLEAR</td>\n",
              "      <td>DAYLIGHT</td>\n",
              "      <td>DRY</td>\n",
              "      <td>TURNING MOVEMENT</td>\n",
              "      <td>DRIVER</td>\n",
              "      <td>NONE</td>\n",
              "      <td>2000-09-11</td>\n",
              "      <td>1</td>\n",
              "      <td>0</td>\n",
              "      <td>0</td>\n",
              "      <td>0</td>\n",
              "    </tr>\n",
              "    <tr>\n",
              "      <th>2</th>\n",
              "      <td>2</td>\n",
              "      <td>850</td>\n",
              "      <td>-79.456271</td>\n",
              "      <td>43.727698</td>\n",
              "      <td>Minor Arterial</td>\n",
              "      <td>CLEAR</td>\n",
              "      <td>DAYLIGHT</td>\n",
              "      <td>DRY</td>\n",
              "      <td>OTHER</td>\n",
              "      <td>PASSENGER</td>\n",
              "      <td>MINIMAL</td>\n",
              "      <td>2000-09-11</td>\n",
              "      <td>1</td>\n",
              "      <td>1</td>\n",
              "      <td>0</td>\n",
              "      <td>0</td>\n",
              "    </tr>\n",
              "    <tr>\n",
              "      <th>3</th>\n",
              "      <td>2</td>\n",
              "      <td>850</td>\n",
              "      <td>-79.456271</td>\n",
              "      <td>43.727698</td>\n",
              "      <td>Minor Arterial</td>\n",
              "      <td>CLEAR</td>\n",
              "      <td>DAYLIGHT</td>\n",
              "      <td>DRY</td>\n",
              "      <td>OTHER</td>\n",
              "      <td>PASSENGER</td>\n",
              "      <td>MINIMAL</td>\n",
              "      <td>2000-09-11</td>\n",
              "      <td>1</td>\n",
              "      <td>1</td>\n",
              "      <td>0</td>\n",
              "      <td>0</td>\n",
              "    </tr>\n",
              "    <tr>\n",
              "      <th>4</th>\n",
              "      <td>2</td>\n",
              "      <td>850</td>\n",
              "      <td>-79.456271</td>\n",
              "      <td>43.727698</td>\n",
              "      <td>Minor Arterial</td>\n",
              "      <td>CLEAR</td>\n",
              "      <td>DAYLIGHT</td>\n",
              "      <td>DRY</td>\n",
              "      <td>OTHER</td>\n",
              "      <td>VEHICLE OWNER</td>\n",
              "      <td>NONE</td>\n",
              "      <td>2000-09-11</td>\n",
              "      <td>1</td>\n",
              "      <td>0</td>\n",
              "      <td>0</td>\n",
              "      <td>0</td>\n",
              "    </tr>\n",
              "    <tr>\n",
              "      <th>...</th>\n",
              "      <td>...</td>\n",
              "      <td>...</td>\n",
              "      <td>...</td>\n",
              "      <td>...</td>\n",
              "      <td>...</td>\n",
              "      <td>...</td>\n",
              "      <td>...</td>\n",
              "      <td>...</td>\n",
              "      <td>...</td>\n",
              "      <td>...</td>\n",
              "      <td>...</td>\n",
              "      <td>...</td>\n",
              "      <td>...</td>\n",
              "      <td>...</td>\n",
              "      <td>...</td>\n",
              "      <td>...</td>\n",
              "    </tr>\n",
              "    <tr>\n",
              "      <th>2346920</th>\n",
              "      <td>1038396</td>\n",
              "      <td>2200</td>\n",
              "      <td>-79.351940</td>\n",
              "      <td>43.677554</td>\n",
              "      <td>Major Arterial</td>\n",
              "      <td>CLEAR</td>\n",
              "      <td>DARK, ARTIFICIAL</td>\n",
              "      <td>DRY</td>\n",
              "      <td>TURNING MOVEMENT</td>\n",
              "      <td>DRIVER</td>\n",
              "      <td>NONE</td>\n",
              "      <td>2019-05-10</td>\n",
              "      <td>1</td>\n",
              "      <td>0</td>\n",
              "      <td>0</td>\n",
              "      <td>0</td>\n",
              "    </tr>\n",
              "    <tr>\n",
              "      <th>2346921</th>\n",
              "      <td>1038396</td>\n",
              "      <td>2200</td>\n",
              "      <td>-79.351940</td>\n",
              "      <td>43.677554</td>\n",
              "      <td>Major Arterial</td>\n",
              "      <td>CLEAR</td>\n",
              "      <td>DARK, ARTIFICIAL</td>\n",
              "      <td>DRY</td>\n",
              "      <td>TURNING MOVEMENT</td>\n",
              "      <td>PASSENGER</td>\n",
              "      <td>MINOR</td>\n",
              "      <td>2019-05-10</td>\n",
              "      <td>1</td>\n",
              "      <td>1</td>\n",
              "      <td>0</td>\n",
              "      <td>0</td>\n",
              "    </tr>\n",
              "    <tr>\n",
              "      <th>2346922</th>\n",
              "      <td>1038397</td>\n",
              "      <td>2236</td>\n",
              "      <td>-79.314602</td>\n",
              "      <td>43.678378</td>\n",
              "      <td>Minor Arterial</td>\n",
              "      <td>RAIN</td>\n",
              "      <td>DARK, ARTIFICIAL</td>\n",
              "      <td>WET</td>\n",
              "      <td>SMV UNATTENDED VEHICLE</td>\n",
              "      <td>DRIVER</td>\n",
              "      <td>NONE</td>\n",
              "      <td>2019-07-20</td>\n",
              "      <td>1</td>\n",
              "      <td>0</td>\n",
              "      <td>0</td>\n",
              "      <td>0</td>\n",
              "    </tr>\n",
              "    <tr>\n",
              "      <th>2346923</th>\n",
              "      <td>1038398</td>\n",
              "      <td>938</td>\n",
              "      <td>-79.372333</td>\n",
              "      <td>43.651519</td>\n",
              "      <td>Major Arterial</td>\n",
              "      <td>CLEAR</td>\n",
              "      <td>DAYLIGHT</td>\n",
              "      <td>DRY</td>\n",
              "      <td>PEDESTRIAN COLLISIONS</td>\n",
              "      <td>PEDESTRIAN</td>\n",
              "      <td>MINOR</td>\n",
              "      <td>2019-10-08</td>\n",
              "      <td>1</td>\n",
              "      <td>1</td>\n",
              "      <td>0</td>\n",
              "      <td>0</td>\n",
              "    </tr>\n",
              "    <tr>\n",
              "      <th>2346924</th>\n",
              "      <td>1038398</td>\n",
              "      <td>938</td>\n",
              "      <td>-79.372333</td>\n",
              "      <td>43.651519</td>\n",
              "      <td>Major Arterial</td>\n",
              "      <td>CLEAR</td>\n",
              "      <td>DAYLIGHT</td>\n",
              "      <td>DRY</td>\n",
              "      <td>PEDESTRIAN COLLISIONS</td>\n",
              "      <td>DRIVER</td>\n",
              "      <td>NONE</td>\n",
              "      <td>2019-10-08</td>\n",
              "      <td>1</td>\n",
              "      <td>0</td>\n",
              "      <td>0</td>\n",
              "      <td>0</td>\n",
              "    </tr>\n",
              "  </tbody>\n",
              "</table>\n",
              "<p>2346925 rows × 16 columns</p>\n",
              "</div>"
            ],
            "text/plain": [
              "         collision_no  acctime  longitude  ...  # injured # fatalities # KSI\n",
              "0                   1      850 -79.456317  ...          0            0     0\n",
              "1                   1      850 -79.456317  ...          0            0     0\n",
              "2                   2      850 -79.456271  ...          1            0     0\n",
              "3                   2      850 -79.456271  ...          1            0     0\n",
              "4                   2      850 -79.456271  ...          0            0     0\n",
              "...               ...      ...        ...  ...        ...          ...   ...\n",
              "2346920       1038396     2200 -79.351940  ...          0            0     0\n",
              "2346921       1038396     2200 -79.351940  ...          1            0     0\n",
              "2346922       1038397     2236 -79.314602  ...          0            0     0\n",
              "2346923       1038398      938 -79.372333  ...          1            0     0\n",
              "2346924       1038398      938 -79.372333  ...          0            0     0\n",
              "\n",
              "[2346925 rows x 16 columns]"
            ]
          },
          "metadata": {
            "tags": []
          },
          "execution_count": 38
        }
      ]
    },
    {
      "cell_type": "code",
      "metadata": {
        "trusted": true,
        "id": "WDQpMdKiD86S",
        "colab_type": "code",
        "colab": {
          "base_uri": "https://localhost:8080/",
          "height": 51
        },
        "outputId": "b3067b91-f627-4209-93bb-61dcfe35ca14"
      },
      "source": [
        "# extract hour from acctime (integer)\n",
        "\n",
        "hour = []\n",
        "for i in range(len(df3)):\n",
        "    if len(str(df3.loc[i, 'acctime'])) == 2:\n",
        "        hour.append(0)\n",
        "    elif len(str(df3.loc[i, 'acctime'])) == 3:\n",
        "        hour.append(int(str(df3.loc[i, 'acctime'])[:1]))\n",
        "    elif len(str(df3.loc[i, 'acctime'])) == 4:\n",
        "        hour.append(int(str(df3.loc[i, 'acctime'])[:2]))\n",
        "    else:\n",
        "        hour.append(np.nan)\n",
        "        \n",
        "df3['hour'] = hour\n",
        "\n",
        "df3['hour'].unique()"
      ],
      "execution_count": 39,
      "outputs": [
        {
          "output_type": "execute_result",
          "data": {
            "text/plain": [
              "array([ 8.,  6., 11., 17., 13., 14., 16., 19.,  2., 18., 20., 22., 15.,\n",
              "       21.,  1.,  7.,  9., 12., 23., 10.,  0., nan,  3.,  4.,  5.])"
            ]
          },
          "metadata": {
            "tags": []
          },
          "execution_count": 39
        }
      ]
    },
    {
      "cell_type": "code",
      "metadata": {
        "trusted": true,
        "id": "LzIH4BwjD86U",
        "colab_type": "code",
        "colab": {
          "base_uri": "https://localhost:8080/",
          "height": 34
        },
        "outputId": "ad157d77-2029-49e4-c3b1-f173385e59b5"
      },
      "source": [
        "print('# nan in \"hour\": {:,}'.format(df3['hour'].isna().sum()))"
      ],
      "execution_count": 40,
      "outputs": [
        {
          "output_type": "stream",
          "text": [
            "# nan in \"hour\": 11,401\n"
          ],
          "name": "stdout"
        }
      ]
    },
    {
      "cell_type": "code",
      "metadata": {
        "trusted": true,
        "id": "gyluPlNrD86W",
        "colab_type": "code",
        "colab": {
          "base_uri": "https://localhost:8080/",
          "height": 326
        },
        "outputId": "e463475f-10fc-45f6-d1b6-6747c30e08e7"
      },
      "source": [
        "# Drop nan values of hour\n",
        "df3.dropna(subset=['hour'], inplace=True )\n",
        "\n",
        "df3['hour'] = df3['hour'].astype(np.int8)\n",
        "df3.head()"
      ],
      "execution_count": 41,
      "outputs": [
        {
          "output_type": "execute_result",
          "data": {
            "text/html": [
              "<div>\n",
              "<style scoped>\n",
              "    .dataframe tbody tr th:only-of-type {\n",
              "        vertical-align: middle;\n",
              "    }\n",
              "\n",
              "    .dataframe tbody tr th {\n",
              "        vertical-align: top;\n",
              "    }\n",
              "\n",
              "    .dataframe thead th {\n",
              "        text-align: right;\n",
              "    }\n",
              "</style>\n",
              "<table border=\"1\" class=\"dataframe\">\n",
              "  <thead>\n",
              "    <tr style=\"text-align: right;\">\n",
              "      <th></th>\n",
              "      <th>collision_no</th>\n",
              "      <th>acctime</th>\n",
              "      <th>longitude</th>\n",
              "      <th>latitude</th>\n",
              "      <th>road_class</th>\n",
              "      <th>visibility</th>\n",
              "      <th>light</th>\n",
              "      <th>road_surface_cond</th>\n",
              "      <th>impact_type</th>\n",
              "      <th>involved_class</th>\n",
              "      <th>involved_injury_class</th>\n",
              "      <th>acc_date</th>\n",
              "      <th># involved</th>\n",
              "      <th># injured</th>\n",
              "      <th># fatalities</th>\n",
              "      <th># KSI</th>\n",
              "      <th>hour</th>\n",
              "    </tr>\n",
              "  </thead>\n",
              "  <tbody>\n",
              "    <tr>\n",
              "      <th>0</th>\n",
              "      <td>1</td>\n",
              "      <td>850</td>\n",
              "      <td>-79.456317</td>\n",
              "      <td>43.727732</td>\n",
              "      <td>Minor Arterial</td>\n",
              "      <td>CLEAR</td>\n",
              "      <td>DAYLIGHT</td>\n",
              "      <td>DRY</td>\n",
              "      <td>TURNING MOVEMENT</td>\n",
              "      <td>DRIVER</td>\n",
              "      <td>NONE</td>\n",
              "      <td>2000-09-11</td>\n",
              "      <td>1</td>\n",
              "      <td>0</td>\n",
              "      <td>0</td>\n",
              "      <td>0</td>\n",
              "      <td>8</td>\n",
              "    </tr>\n",
              "    <tr>\n",
              "      <th>1</th>\n",
              "      <td>1</td>\n",
              "      <td>850</td>\n",
              "      <td>-79.456317</td>\n",
              "      <td>43.727732</td>\n",
              "      <td>Minor Arterial</td>\n",
              "      <td>CLEAR</td>\n",
              "      <td>DAYLIGHT</td>\n",
              "      <td>DRY</td>\n",
              "      <td>TURNING MOVEMENT</td>\n",
              "      <td>DRIVER</td>\n",
              "      <td>NONE</td>\n",
              "      <td>2000-09-11</td>\n",
              "      <td>1</td>\n",
              "      <td>0</td>\n",
              "      <td>0</td>\n",
              "      <td>0</td>\n",
              "      <td>8</td>\n",
              "    </tr>\n",
              "    <tr>\n",
              "      <th>2</th>\n",
              "      <td>2</td>\n",
              "      <td>850</td>\n",
              "      <td>-79.456271</td>\n",
              "      <td>43.727698</td>\n",
              "      <td>Minor Arterial</td>\n",
              "      <td>CLEAR</td>\n",
              "      <td>DAYLIGHT</td>\n",
              "      <td>DRY</td>\n",
              "      <td>OTHER</td>\n",
              "      <td>PASSENGER</td>\n",
              "      <td>MINIMAL</td>\n",
              "      <td>2000-09-11</td>\n",
              "      <td>1</td>\n",
              "      <td>1</td>\n",
              "      <td>0</td>\n",
              "      <td>0</td>\n",
              "      <td>8</td>\n",
              "    </tr>\n",
              "    <tr>\n",
              "      <th>3</th>\n",
              "      <td>2</td>\n",
              "      <td>850</td>\n",
              "      <td>-79.456271</td>\n",
              "      <td>43.727698</td>\n",
              "      <td>Minor Arterial</td>\n",
              "      <td>CLEAR</td>\n",
              "      <td>DAYLIGHT</td>\n",
              "      <td>DRY</td>\n",
              "      <td>OTHER</td>\n",
              "      <td>PASSENGER</td>\n",
              "      <td>MINIMAL</td>\n",
              "      <td>2000-09-11</td>\n",
              "      <td>1</td>\n",
              "      <td>1</td>\n",
              "      <td>0</td>\n",
              "      <td>0</td>\n",
              "      <td>8</td>\n",
              "    </tr>\n",
              "    <tr>\n",
              "      <th>4</th>\n",
              "      <td>2</td>\n",
              "      <td>850</td>\n",
              "      <td>-79.456271</td>\n",
              "      <td>43.727698</td>\n",
              "      <td>Minor Arterial</td>\n",
              "      <td>CLEAR</td>\n",
              "      <td>DAYLIGHT</td>\n",
              "      <td>DRY</td>\n",
              "      <td>OTHER</td>\n",
              "      <td>VEHICLE OWNER</td>\n",
              "      <td>NONE</td>\n",
              "      <td>2000-09-11</td>\n",
              "      <td>1</td>\n",
              "      <td>0</td>\n",
              "      <td>0</td>\n",
              "      <td>0</td>\n",
              "      <td>8</td>\n",
              "    </tr>\n",
              "  </tbody>\n",
              "</table>\n",
              "</div>"
            ],
            "text/plain": [
              "   collision_no  acctime  longitude  ...  # fatalities # KSI hour\n",
              "0             1      850 -79.456317  ...             0     0    8\n",
              "1             1      850 -79.456317  ...             0     0    8\n",
              "2             2      850 -79.456271  ...             0     0    8\n",
              "3             2      850 -79.456271  ...             0     0    8\n",
              "4             2      850 -79.456271  ...             0     0    8\n",
              "\n",
              "[5 rows x 17 columns]"
            ]
          },
          "metadata": {
            "tags": []
          },
          "execution_count": 41
        }
      ]
    },
    {
      "cell_type": "code",
      "metadata": {
        "trusted": true,
        "id": "kN8cMMICD86X",
        "colab_type": "code",
        "colab": {}
      },
      "source": [
        "df3['year'] = df3['acc_date'].dt.year\n",
        "df3['month'] = df3['acc_date'].dt.month\n",
        "df3['day'] = df3['acc_date'].dt.dayofweek"
      ],
      "execution_count": 0,
      "outputs": []
    },
    {
      "cell_type": "code",
      "metadata": {
        "trusted": true,
        "id": "sThrxB63D86Z",
        "colab_type": "code",
        "colab": {
          "base_uri": "https://localhost:8080/",
          "height": 51
        },
        "outputId": "e997e68f-295d-4d3e-c1e2-ee54bc42aad1"
      },
      "source": [
        "df3['year'].unique()"
      ],
      "execution_count": 43,
      "outputs": [
        {
          "output_type": "execute_result",
          "data": {
            "text/plain": [
              "array([2000, 2001, 2002, 2003, 2004, 2005, 2006, 2007, 2008, 2009, 2010,\n",
              "       2011, 2012, 2013, 2014, 2015, 2016, 2017, 2018, 2019])"
            ]
          },
          "metadata": {
            "tags": []
          },
          "execution_count": 43
        }
      ]
    },
    {
      "cell_type": "code",
      "metadata": {
        "trusted": true,
        "id": "p9Bwt2I-D86c",
        "colab_type": "code",
        "colab": {
          "base_uri": "https://localhost:8080/",
          "height": 34
        },
        "outputId": "4732cf01-da95-49d6-f3ee-946fcb9ad979"
      },
      "source": [
        "df3['month'].unique()"
      ],
      "execution_count": 44,
      "outputs": [
        {
          "output_type": "execute_result",
          "data": {
            "text/plain": [
              "array([ 9,  1,  2,  3,  4,  5,  6,  7,  8, 10, 11, 12])"
            ]
          },
          "metadata": {
            "tags": []
          },
          "execution_count": 44
        }
      ]
    },
    {
      "cell_type": "code",
      "metadata": {
        "trusted": true,
        "id": "Ze7KtUdbD86e",
        "colab_type": "code",
        "colab": {
          "base_uri": "https://localhost:8080/",
          "height": 34
        },
        "outputId": "0d4b0288-4d4e-429c-f561-e9bbc22d83a6"
      },
      "source": [
        "# It is assumed the week starts on Monday, which is denoted by 0 and ends on Sunday which is denoted by 6\n",
        "df3['day'].unique()"
      ],
      "execution_count": 45,
      "outputs": [
        {
          "output_type": "execute_result",
          "data": {
            "text/plain": [
              "array([0, 6, 1, 2, 3, 4, 5])"
            ]
          },
          "metadata": {
            "tags": []
          },
          "execution_count": 45
        }
      ]
    },
    {
      "cell_type": "code",
      "metadata": {
        "trusted": true,
        "id": "KHhgle59D86g",
        "colab_type": "code",
        "colab": {
          "base_uri": "https://localhost:8080/",
          "height": 643
        },
        "outputId": "2d087c3c-2be1-4f27-e23a-a66d8214ef6a"
      },
      "source": [
        "# Create df4 from df3\n",
        "df4 = df3[['collision_no', 'year', 'month', 'day', 'hour', 'longitude', 'latitude', \n",
        "           'road_class', 'road_surface_cond', 'visibility', 'light', 'impact_type', \n",
        "           'involved_class', 'involved_injury_class', '# involved', '# injured', '# KSI', '# fatalities']]\n",
        "\n",
        "df4.reset_index(drop=True, inplace=True)\n",
        "df4"
      ],
      "execution_count": 46,
      "outputs": [
        {
          "output_type": "execute_result",
          "data": {
            "text/html": [
              "<div>\n",
              "<style scoped>\n",
              "    .dataframe tbody tr th:only-of-type {\n",
              "        vertical-align: middle;\n",
              "    }\n",
              "\n",
              "    .dataframe tbody tr th {\n",
              "        vertical-align: top;\n",
              "    }\n",
              "\n",
              "    .dataframe thead th {\n",
              "        text-align: right;\n",
              "    }\n",
              "</style>\n",
              "<table border=\"1\" class=\"dataframe\">\n",
              "  <thead>\n",
              "    <tr style=\"text-align: right;\">\n",
              "      <th></th>\n",
              "      <th>collision_no</th>\n",
              "      <th>year</th>\n",
              "      <th>month</th>\n",
              "      <th>day</th>\n",
              "      <th>hour</th>\n",
              "      <th>longitude</th>\n",
              "      <th>latitude</th>\n",
              "      <th>road_class</th>\n",
              "      <th>road_surface_cond</th>\n",
              "      <th>visibility</th>\n",
              "      <th>light</th>\n",
              "      <th>impact_type</th>\n",
              "      <th>involved_class</th>\n",
              "      <th>involved_injury_class</th>\n",
              "      <th># involved</th>\n",
              "      <th># injured</th>\n",
              "      <th># KSI</th>\n",
              "      <th># fatalities</th>\n",
              "    </tr>\n",
              "  </thead>\n",
              "  <tbody>\n",
              "    <tr>\n",
              "      <th>0</th>\n",
              "      <td>1</td>\n",
              "      <td>2000</td>\n",
              "      <td>9</td>\n",
              "      <td>0</td>\n",
              "      <td>8</td>\n",
              "      <td>-79.456317</td>\n",
              "      <td>43.727732</td>\n",
              "      <td>Minor Arterial</td>\n",
              "      <td>DRY</td>\n",
              "      <td>CLEAR</td>\n",
              "      <td>DAYLIGHT</td>\n",
              "      <td>TURNING MOVEMENT</td>\n",
              "      <td>DRIVER</td>\n",
              "      <td>NONE</td>\n",
              "      <td>1</td>\n",
              "      <td>0</td>\n",
              "      <td>0</td>\n",
              "      <td>0</td>\n",
              "    </tr>\n",
              "    <tr>\n",
              "      <th>1</th>\n",
              "      <td>1</td>\n",
              "      <td>2000</td>\n",
              "      <td>9</td>\n",
              "      <td>0</td>\n",
              "      <td>8</td>\n",
              "      <td>-79.456317</td>\n",
              "      <td>43.727732</td>\n",
              "      <td>Minor Arterial</td>\n",
              "      <td>DRY</td>\n",
              "      <td>CLEAR</td>\n",
              "      <td>DAYLIGHT</td>\n",
              "      <td>TURNING MOVEMENT</td>\n",
              "      <td>DRIVER</td>\n",
              "      <td>NONE</td>\n",
              "      <td>1</td>\n",
              "      <td>0</td>\n",
              "      <td>0</td>\n",
              "      <td>0</td>\n",
              "    </tr>\n",
              "    <tr>\n",
              "      <th>2</th>\n",
              "      <td>2</td>\n",
              "      <td>2000</td>\n",
              "      <td>9</td>\n",
              "      <td>0</td>\n",
              "      <td>8</td>\n",
              "      <td>-79.456271</td>\n",
              "      <td>43.727698</td>\n",
              "      <td>Minor Arterial</td>\n",
              "      <td>DRY</td>\n",
              "      <td>CLEAR</td>\n",
              "      <td>DAYLIGHT</td>\n",
              "      <td>OTHER</td>\n",
              "      <td>PASSENGER</td>\n",
              "      <td>MINIMAL</td>\n",
              "      <td>1</td>\n",
              "      <td>1</td>\n",
              "      <td>0</td>\n",
              "      <td>0</td>\n",
              "    </tr>\n",
              "    <tr>\n",
              "      <th>3</th>\n",
              "      <td>2</td>\n",
              "      <td>2000</td>\n",
              "      <td>9</td>\n",
              "      <td>0</td>\n",
              "      <td>8</td>\n",
              "      <td>-79.456271</td>\n",
              "      <td>43.727698</td>\n",
              "      <td>Minor Arterial</td>\n",
              "      <td>DRY</td>\n",
              "      <td>CLEAR</td>\n",
              "      <td>DAYLIGHT</td>\n",
              "      <td>OTHER</td>\n",
              "      <td>PASSENGER</td>\n",
              "      <td>MINIMAL</td>\n",
              "      <td>1</td>\n",
              "      <td>1</td>\n",
              "      <td>0</td>\n",
              "      <td>0</td>\n",
              "    </tr>\n",
              "    <tr>\n",
              "      <th>4</th>\n",
              "      <td>2</td>\n",
              "      <td>2000</td>\n",
              "      <td>9</td>\n",
              "      <td>0</td>\n",
              "      <td>8</td>\n",
              "      <td>-79.456271</td>\n",
              "      <td>43.727698</td>\n",
              "      <td>Minor Arterial</td>\n",
              "      <td>DRY</td>\n",
              "      <td>CLEAR</td>\n",
              "      <td>DAYLIGHT</td>\n",
              "      <td>OTHER</td>\n",
              "      <td>VEHICLE OWNER</td>\n",
              "      <td>NONE</td>\n",
              "      <td>1</td>\n",
              "      <td>0</td>\n",
              "      <td>0</td>\n",
              "      <td>0</td>\n",
              "    </tr>\n",
              "    <tr>\n",
              "      <th>...</th>\n",
              "      <td>...</td>\n",
              "      <td>...</td>\n",
              "      <td>...</td>\n",
              "      <td>...</td>\n",
              "      <td>...</td>\n",
              "      <td>...</td>\n",
              "      <td>...</td>\n",
              "      <td>...</td>\n",
              "      <td>...</td>\n",
              "      <td>...</td>\n",
              "      <td>...</td>\n",
              "      <td>...</td>\n",
              "      <td>...</td>\n",
              "      <td>...</td>\n",
              "      <td>...</td>\n",
              "      <td>...</td>\n",
              "      <td>...</td>\n",
              "      <td>...</td>\n",
              "    </tr>\n",
              "    <tr>\n",
              "      <th>2335519</th>\n",
              "      <td>1038396</td>\n",
              "      <td>2019</td>\n",
              "      <td>5</td>\n",
              "      <td>4</td>\n",
              "      <td>22</td>\n",
              "      <td>-79.351940</td>\n",
              "      <td>43.677554</td>\n",
              "      <td>Major Arterial</td>\n",
              "      <td>DRY</td>\n",
              "      <td>CLEAR</td>\n",
              "      <td>DARK, ARTIFICIAL</td>\n",
              "      <td>TURNING MOVEMENT</td>\n",
              "      <td>DRIVER</td>\n",
              "      <td>NONE</td>\n",
              "      <td>1</td>\n",
              "      <td>0</td>\n",
              "      <td>0</td>\n",
              "      <td>0</td>\n",
              "    </tr>\n",
              "    <tr>\n",
              "      <th>2335520</th>\n",
              "      <td>1038396</td>\n",
              "      <td>2019</td>\n",
              "      <td>5</td>\n",
              "      <td>4</td>\n",
              "      <td>22</td>\n",
              "      <td>-79.351940</td>\n",
              "      <td>43.677554</td>\n",
              "      <td>Major Arterial</td>\n",
              "      <td>DRY</td>\n",
              "      <td>CLEAR</td>\n",
              "      <td>DARK, ARTIFICIAL</td>\n",
              "      <td>TURNING MOVEMENT</td>\n",
              "      <td>PASSENGER</td>\n",
              "      <td>MINOR</td>\n",
              "      <td>1</td>\n",
              "      <td>1</td>\n",
              "      <td>0</td>\n",
              "      <td>0</td>\n",
              "    </tr>\n",
              "    <tr>\n",
              "      <th>2335521</th>\n",
              "      <td>1038397</td>\n",
              "      <td>2019</td>\n",
              "      <td>7</td>\n",
              "      <td>5</td>\n",
              "      <td>22</td>\n",
              "      <td>-79.314602</td>\n",
              "      <td>43.678378</td>\n",
              "      <td>Minor Arterial</td>\n",
              "      <td>WET</td>\n",
              "      <td>RAIN</td>\n",
              "      <td>DARK, ARTIFICIAL</td>\n",
              "      <td>SMV UNATTENDED VEHICLE</td>\n",
              "      <td>DRIVER</td>\n",
              "      <td>NONE</td>\n",
              "      <td>1</td>\n",
              "      <td>0</td>\n",
              "      <td>0</td>\n",
              "      <td>0</td>\n",
              "    </tr>\n",
              "    <tr>\n",
              "      <th>2335522</th>\n",
              "      <td>1038398</td>\n",
              "      <td>2019</td>\n",
              "      <td>10</td>\n",
              "      <td>1</td>\n",
              "      <td>9</td>\n",
              "      <td>-79.372333</td>\n",
              "      <td>43.651519</td>\n",
              "      <td>Major Arterial</td>\n",
              "      <td>DRY</td>\n",
              "      <td>CLEAR</td>\n",
              "      <td>DAYLIGHT</td>\n",
              "      <td>PEDESTRIAN COLLISIONS</td>\n",
              "      <td>PEDESTRIAN</td>\n",
              "      <td>MINOR</td>\n",
              "      <td>1</td>\n",
              "      <td>1</td>\n",
              "      <td>0</td>\n",
              "      <td>0</td>\n",
              "    </tr>\n",
              "    <tr>\n",
              "      <th>2335523</th>\n",
              "      <td>1038398</td>\n",
              "      <td>2019</td>\n",
              "      <td>10</td>\n",
              "      <td>1</td>\n",
              "      <td>9</td>\n",
              "      <td>-79.372333</td>\n",
              "      <td>43.651519</td>\n",
              "      <td>Major Arterial</td>\n",
              "      <td>DRY</td>\n",
              "      <td>CLEAR</td>\n",
              "      <td>DAYLIGHT</td>\n",
              "      <td>PEDESTRIAN COLLISIONS</td>\n",
              "      <td>DRIVER</td>\n",
              "      <td>NONE</td>\n",
              "      <td>1</td>\n",
              "      <td>0</td>\n",
              "      <td>0</td>\n",
              "      <td>0</td>\n",
              "    </tr>\n",
              "  </tbody>\n",
              "</table>\n",
              "<p>2335524 rows × 18 columns</p>\n",
              "</div>"
            ],
            "text/plain": [
              "         collision_no  year  month  ...  # injured  # KSI  # fatalities\n",
              "0                   1  2000      9  ...          0      0             0\n",
              "1                   1  2000      9  ...          0      0             0\n",
              "2                   2  2000      9  ...          1      0             0\n",
              "3                   2  2000      9  ...          1      0             0\n",
              "4                   2  2000      9  ...          0      0             0\n",
              "...               ...   ...    ...  ...        ...    ...           ...\n",
              "2335519       1038396  2019      5  ...          0      0             0\n",
              "2335520       1038396  2019      5  ...          1      0             0\n",
              "2335521       1038397  2019      7  ...          0      0             0\n",
              "2335522       1038398  2019     10  ...          1      0             0\n",
              "2335523       1038398  2019     10  ...          0      0             0\n",
              "\n",
              "[2335524 rows x 18 columns]"
            ]
          },
          "metadata": {
            "tags": []
          },
          "execution_count": 46
        }
      ]
    },
    {
      "cell_type": "code",
      "metadata": {
        "trusted": true,
        "id": "2SqtNouCD86j",
        "colab_type": "code",
        "colab": {
          "base_uri": "https://localhost:8080/",
          "height": 340
        },
        "outputId": "503ea113-cfe8-4d22-a616-1cefe8b125b4"
      },
      "source": [
        "df4.isna().sum()"
      ],
      "execution_count": 47,
      "outputs": [
        {
          "output_type": "execute_result",
          "data": {
            "text/plain": [
              "collision_no             0\n",
              "year                     0\n",
              "month                    0\n",
              "day                      0\n",
              "hour                     0\n",
              "longitude                0\n",
              "latitude                 0\n",
              "road_class               0\n",
              "road_surface_cond        0\n",
              "visibility               0\n",
              "light                    0\n",
              "impact_type              0\n",
              "involved_class           0\n",
              "involved_injury_class    0\n",
              "# involved               0\n",
              "# injured                0\n",
              "# KSI                    0\n",
              "# fatalities             0\n",
              "dtype: int64"
            ]
          },
          "metadata": {
            "tags": []
          },
          "execution_count": 47
        }
      ]
    },
    {
      "cell_type": "code",
      "metadata": {
        "trusted": true,
        "id": "ZhSNTqguD86l",
        "colab_type": "code",
        "colab": {
          "base_uri": "https://localhost:8080/",
          "height": 34
        },
        "outputId": "82c98b93-13a4-4b20-83d2-2feaac573f52"
      },
      "source": [
        "df4[df4['road_class']=='Pending'].shape"
      ],
      "execution_count": 48,
      "outputs": [
        {
          "output_type": "execute_result",
          "data": {
            "text/plain": [
              "(1030, 18)"
            ]
          },
          "metadata": {
            "tags": []
          },
          "execution_count": 48
        }
      ]
    },
    {
      "cell_type": "code",
      "metadata": {
        "trusted": true,
        "id": "JBaLDwjYD86n",
        "colab_type": "code",
        "colab": {
          "base_uri": "https://localhost:8080/",
          "height": 34
        },
        "outputId": "e97fc530-64a2-4b85-d9e3-22fcf0c61bcc"
      },
      "source": [
        "df4[df4['road_class']==' '].shape"
      ],
      "execution_count": 49,
      "outputs": [
        {
          "output_type": "execute_result",
          "data": {
            "text/plain": [
              "(5, 18)"
            ]
          },
          "metadata": {
            "tags": []
          },
          "execution_count": 49
        }
      ]
    },
    {
      "cell_type": "code",
      "metadata": {
        "trusted": true,
        "id": "KXKWf0HjD86p",
        "colab_type": "code",
        "colab": {
          "base_uri": "https://localhost:8080/",
          "height": 136
        },
        "outputId": "ab353f78-e0bc-44fa-ebe1-d9bd69425e20"
      },
      "source": [
        "i = df4[df4['road_class'] == 'Pending'].index\n",
        "df4.drop(i, inplace=True)\n",
        "\n",
        "df4.reset_index(drop=True, inplace=True)\n",
        "\n",
        "i = df4[df4['road_class'] == ' '].index\n",
        "df4.drop(i, inplace=True)\n",
        "\n",
        "df4.reset_index(drop=True, inplace=True)"
      ],
      "execution_count": 50,
      "outputs": [
        {
          "output_type": "stream",
          "text": [
            "/usr/local/lib/python3.6/dist-packages/pandas/core/frame.py:4117: SettingWithCopyWarning:\n",
            "\n",
            "\n",
            "A value is trying to be set on a copy of a slice from a DataFrame\n",
            "\n",
            "See the caveats in the documentation: http://pandas.pydata.org/pandas-docs/stable/user_guide/indexing.html#returning-a-view-versus-a-copy\n",
            "\n"
          ],
          "name": "stderr"
        }
      ]
    },
    {
      "cell_type": "code",
      "metadata": {
        "id": "o2Pk6imNEpeR",
        "colab_type": "code",
        "colab": {
          "base_uri": "https://localhost:8080/",
          "height": 762
        },
        "outputId": "676918e8-deb2-40de-9b1d-739431834f43"
      },
      "source": [
        "df_inKsi = df4[['involved_class', '# KSI']].groupby(['involved_class']).sum()\n",
        "df_inKsi.reset_index(inplace=True)\n",
        "df_inKsi.sort_values('# KSI', inplace=True, ascending=False)\n",
        "df_inKsi"
      ],
      "execution_count": 53,
      "outputs": [
        {
          "output_type": "execute_result",
          "data": {
            "text/html": [
              "<div>\n",
              "<style scoped>\n",
              "    .dataframe tbody tr th:only-of-type {\n",
              "        vertical-align: middle;\n",
              "    }\n",
              "\n",
              "    .dataframe tbody tr th {\n",
              "        vertical-align: top;\n",
              "    }\n",
              "\n",
              "    .dataframe thead th {\n",
              "        text-align: right;\n",
              "    }\n",
              "</style>\n",
              "<table border=\"1\" class=\"dataframe\">\n",
              "  <thead>\n",
              "    <tr style=\"text-align: right;\">\n",
              "      <th></th>\n",
              "      <th>involved_class</th>\n",
              "      <th># KSI</th>\n",
              "    </tr>\n",
              "  </thead>\n",
              "  <tbody>\n",
              "    <tr>\n",
              "      <th>14</th>\n",
              "      <td>PEDESTRIAN</td>\n",
              "      <td>3999</td>\n",
              "    </tr>\n",
              "    <tr>\n",
              "      <th>4</th>\n",
              "      <td>DRIVER</td>\n",
              "      <td>2681</td>\n",
              "    </tr>\n",
              "    <tr>\n",
              "      <th>13</th>\n",
              "      <td>PASSENGER</td>\n",
              "      <td>1359</td>\n",
              "    </tr>\n",
              "    <tr>\n",
              "      <th>1</th>\n",
              "      <td>CYCLIST</td>\n",
              "      <td>938</td>\n",
              "    </tr>\n",
              "    <tr>\n",
              "      <th>9</th>\n",
              "      <td>MOTORCYCLE DRIVER</td>\n",
              "      <td>644</td>\n",
              "    </tr>\n",
              "    <tr>\n",
              "      <th>18</th>\n",
              "      <td>TRUCK DRIVER</td>\n",
              "      <td>31</td>\n",
              "    </tr>\n",
              "    <tr>\n",
              "      <th>7</th>\n",
              "      <td>MOPED DRIVER</td>\n",
              "      <td>28</td>\n",
              "    </tr>\n",
              "    <tr>\n",
              "      <th>10</th>\n",
              "      <td>MOTORCYCLE PASSENGER</td>\n",
              "      <td>23</td>\n",
              "    </tr>\n",
              "    <tr>\n",
              "      <th>21</th>\n",
              "      <td>WHEELCHAIR</td>\n",
              "      <td>17</td>\n",
              "    </tr>\n",
              "    <tr>\n",
              "      <th>11</th>\n",
              "      <td>OTHER</td>\n",
              "      <td>7</td>\n",
              "    </tr>\n",
              "    <tr>\n",
              "      <th>20</th>\n",
              "      <td>VEHICLE OWNER</td>\n",
              "      <td>6</td>\n",
              "    </tr>\n",
              "    <tr>\n",
              "      <th>6</th>\n",
              "      <td>IN-LINE SKATER</td>\n",
              "      <td>6</td>\n",
              "    </tr>\n",
              "    <tr>\n",
              "      <th>3</th>\n",
              "      <td>CYCLIST PASSENGER</td>\n",
              "      <td>3</td>\n",
              "    </tr>\n",
              "    <tr>\n",
              "      <th>16</th>\n",
              "      <td>RUNAWAY - NO DRIVER</td>\n",
              "      <td>0</td>\n",
              "    </tr>\n",
              "    <tr>\n",
              "      <th>19</th>\n",
              "      <td>UNKNOWN - FTR</td>\n",
              "      <td>0</td>\n",
              "    </tr>\n",
              "    <tr>\n",
              "      <th>17</th>\n",
              "      <td>TRAILER OWNER</td>\n",
              "      <td>0</td>\n",
              "    </tr>\n",
              "    <tr>\n",
              "      <th>0</th>\n",
              "      <td>ANIMAL</td>\n",
              "      <td>0</td>\n",
              "    </tr>\n",
              "    <tr>\n",
              "      <th>15</th>\n",
              "      <td>PEDESTRIAN - NOT HIT</td>\n",
              "      <td>0</td>\n",
              "    </tr>\n",
              "    <tr>\n",
              "      <th>12</th>\n",
              "      <td>OTHER PROPERTY OWNER</td>\n",
              "      <td>0</td>\n",
              "    </tr>\n",
              "    <tr>\n",
              "      <th>8</th>\n",
              "      <td>MOPED PASSENGER</td>\n",
              "      <td>0</td>\n",
              "    </tr>\n",
              "    <tr>\n",
              "      <th>5</th>\n",
              "      <td>DRIVER - NOT HIT</td>\n",
              "      <td>0</td>\n",
              "    </tr>\n",
              "    <tr>\n",
              "      <th>2</th>\n",
              "      <td>CYCLIST - NOT HIT</td>\n",
              "      <td>0</td>\n",
              "    </tr>\n",
              "    <tr>\n",
              "      <th>22</th>\n",
              "      <td>WITNESS</td>\n",
              "      <td>0</td>\n",
              "    </tr>\n",
              "  </tbody>\n",
              "</table>\n",
              "</div>"
            ],
            "text/plain": [
              "          involved_class  # KSI\n",
              "14            PEDESTRIAN   3999\n",
              "4                 DRIVER   2681\n",
              "13             PASSENGER   1359\n",
              "1                CYCLIST    938\n",
              "9      MOTORCYCLE DRIVER    644\n",
              "18          TRUCK DRIVER     31\n",
              "7           MOPED DRIVER     28\n",
              "10  MOTORCYCLE PASSENGER     23\n",
              "21            WHEELCHAIR     17\n",
              "11                 OTHER      7\n",
              "20         VEHICLE OWNER      6\n",
              "6         IN-LINE SKATER      6\n",
              "3      CYCLIST PASSENGER      3\n",
              "16   RUNAWAY - NO DRIVER      0\n",
              "19         UNKNOWN - FTR      0\n",
              "17         TRAILER OWNER      0\n",
              "0                 ANIMAL      0\n",
              "15  PEDESTRIAN - NOT HIT      0\n",
              "12  OTHER PROPERTY OWNER      0\n",
              "8        MOPED PASSENGER      0\n",
              "5       DRIVER - NOT HIT      0\n",
              "2      CYCLIST - NOT HIT      0\n",
              "22               WITNESS      0"
            ]
          },
          "metadata": {
            "tags": []
          },
          "execution_count": 53
        }
      ]
    },
    {
      "cell_type": "code",
      "metadata": {
        "id": "YRzDtvdh_AYz",
        "colab_type": "code",
        "colab": {
          "base_uri": "https://localhost:8080/",
          "height": 542
        },
        "outputId": "fb9fbf69-0530-4ab5-f2b1-aeda67ca5f10"
      },
      "source": [
        "import plotly.graph_objects as go\n",
        "\n",
        "fig = go.Figure(data=[go.Bar(\n",
        "    x = df_inKsi['involved_class'], \n",
        "    y = df_inKsi['# KSI'],\n",
        "    # text = feature_imp,\n",
        "    # textposition = 'outside',\n",
        "    # texttemplate = '%{text:.2f}'+'%'\n",
        "    )])\n",
        "fig.update_layout(title = '',\n",
        "                  xaxis = dict(\n",
        "                      title = 'Involved People'), \n",
        "                  yaxis = dict(\n",
        "                      title = '# KSI'\n",
        "                  ))\n",
        "fig.show()"
      ],
      "execution_count": 55,
      "outputs": [
        {
          "output_type": "display_data",
          "data": {
            "text/html": [
              "<html>\n",
              "<head><meta charset=\"utf-8\" /></head>\n",
              "<body>\n",
              "    <div>\n",
              "            <script src=\"https://cdnjs.cloudflare.com/ajax/libs/mathjax/2.7.5/MathJax.js?config=TeX-AMS-MML_SVG\"></script><script type=\"text/javascript\">if (window.MathJax) {MathJax.Hub.Config({SVG: {font: \"STIX-Web\"}});}</script>\n",
              "                <script type=\"text/javascript\">window.PlotlyConfig = {MathJaxConfig: 'local'};</script>\n",
              "        <script src=\"https://cdn.plot.ly/plotly-latest.min.js\"></script>    \n",
              "            <div id=\"d03389b0-7ec0-4996-8b06-46801b97f25d\" class=\"plotly-graph-div\" style=\"height:525px; width:100%;\"></div>\n",
              "            <script type=\"text/javascript\">\n",
              "                \n",
              "                    window.PLOTLYENV=window.PLOTLYENV || {};\n",
              "                    \n",
              "                if (document.getElementById(\"d03389b0-7ec0-4996-8b06-46801b97f25d\")) {\n",
              "                    Plotly.newPlot(\n",
              "                        'd03389b0-7ec0-4996-8b06-46801b97f25d',\n",
              "                        [{\"type\": \"bar\", \"x\": [\"PEDESTRIAN\", \"DRIVER\", \"PASSENGER\", \"CYCLIST\", \"MOTORCYCLE DRIVER\", \"TRUCK DRIVER\", \"MOPED DRIVER\", \"MOTORCYCLE PASSENGER\", \"WHEELCHAIR\", \"OTHER\", \"VEHICLE OWNER\", \"IN-LINE SKATER\", \"CYCLIST PASSENGER\", \"RUNAWAY - NO DRIVER\", \"UNKNOWN - FTR\", \"TRAILER OWNER\", \"ANIMAL\", \"PEDESTRIAN - NOT HIT\", \"OTHER PROPERTY OWNER\", \"MOPED PASSENGER\", \"DRIVER - NOT HIT\", \"CYCLIST - NOT HIT\", \"WITNESS\"], \"y\": [3999, 2681, 1359, 938, 644, 31, 28, 23, 17, 7, 6, 6, 3, 0, 0, 0, 0, 0, 0, 0, 0, 0, 0]}],\n",
              "                        {\"template\": {\"data\": {\"bar\": [{\"error_x\": {\"color\": \"#2a3f5f\"}, \"error_y\": {\"color\": \"#2a3f5f\"}, \"marker\": {\"line\": {\"color\": \"#E5ECF6\", \"width\": 0.5}}, \"type\": \"bar\"}], \"barpolar\": [{\"marker\": {\"line\": {\"color\": \"#E5ECF6\", \"width\": 0.5}}, \"type\": \"barpolar\"}], \"carpet\": [{\"aaxis\": {\"endlinecolor\": \"#2a3f5f\", \"gridcolor\": \"white\", \"linecolor\": \"white\", \"minorgridcolor\": \"white\", \"startlinecolor\": \"#2a3f5f\"}, \"baxis\": {\"endlinecolor\": \"#2a3f5f\", \"gridcolor\": \"white\", \"linecolor\": \"white\", \"minorgridcolor\": \"white\", \"startlinecolor\": \"#2a3f5f\"}, \"type\": \"carpet\"}], \"choropleth\": [{\"colorbar\": {\"outlinewidth\": 0, \"ticks\": \"\"}, \"type\": \"choropleth\"}], \"contour\": [{\"colorbar\": {\"outlinewidth\": 0, \"ticks\": \"\"}, \"colorscale\": [[0.0, \"#0d0887\"], [0.1111111111111111, \"#46039f\"], [0.2222222222222222, \"#7201a8\"], [0.3333333333333333, \"#9c179e\"], [0.4444444444444444, \"#bd3786\"], [0.5555555555555556, \"#d8576b\"], [0.6666666666666666, \"#ed7953\"], [0.7777777777777778, \"#fb9f3a\"], [0.8888888888888888, \"#fdca26\"], [1.0, \"#f0f921\"]], \"type\": \"contour\"}], \"contourcarpet\": [{\"colorbar\": {\"outlinewidth\": 0, \"ticks\": \"\"}, \"type\": \"contourcarpet\"}], \"heatmap\": [{\"colorbar\": {\"outlinewidth\": 0, \"ticks\": \"\"}, \"colorscale\": [[0.0, \"#0d0887\"], [0.1111111111111111, \"#46039f\"], [0.2222222222222222, \"#7201a8\"], [0.3333333333333333, \"#9c179e\"], [0.4444444444444444, \"#bd3786\"], [0.5555555555555556, \"#d8576b\"], [0.6666666666666666, \"#ed7953\"], [0.7777777777777778, \"#fb9f3a\"], [0.8888888888888888, \"#fdca26\"], [1.0, \"#f0f921\"]], \"type\": \"heatmap\"}], \"heatmapgl\": [{\"colorbar\": {\"outlinewidth\": 0, \"ticks\": \"\"}, \"colorscale\": [[0.0, \"#0d0887\"], [0.1111111111111111, \"#46039f\"], [0.2222222222222222, \"#7201a8\"], [0.3333333333333333, \"#9c179e\"], [0.4444444444444444, \"#bd3786\"], [0.5555555555555556, \"#d8576b\"], [0.6666666666666666, \"#ed7953\"], [0.7777777777777778, \"#fb9f3a\"], [0.8888888888888888, \"#fdca26\"], [1.0, \"#f0f921\"]], \"type\": \"heatmapgl\"}], \"histogram\": [{\"marker\": {\"colorbar\": {\"outlinewidth\": 0, \"ticks\": \"\"}}, \"type\": \"histogram\"}], \"histogram2d\": [{\"colorbar\": {\"outlinewidth\": 0, \"ticks\": \"\"}, \"colorscale\": [[0.0, \"#0d0887\"], [0.1111111111111111, \"#46039f\"], [0.2222222222222222, \"#7201a8\"], [0.3333333333333333, \"#9c179e\"], [0.4444444444444444, \"#bd3786\"], [0.5555555555555556, \"#d8576b\"], [0.6666666666666666, \"#ed7953\"], [0.7777777777777778, \"#fb9f3a\"], [0.8888888888888888, \"#fdca26\"], [1.0, \"#f0f921\"]], \"type\": \"histogram2d\"}], \"histogram2dcontour\": [{\"colorbar\": {\"outlinewidth\": 0, \"ticks\": \"\"}, \"colorscale\": [[0.0, \"#0d0887\"], [0.1111111111111111, \"#46039f\"], [0.2222222222222222, \"#7201a8\"], [0.3333333333333333, \"#9c179e\"], [0.4444444444444444, \"#bd3786\"], [0.5555555555555556, \"#d8576b\"], [0.6666666666666666, \"#ed7953\"], [0.7777777777777778, \"#fb9f3a\"], [0.8888888888888888, \"#fdca26\"], [1.0, \"#f0f921\"]], \"type\": \"histogram2dcontour\"}], \"mesh3d\": [{\"colorbar\": {\"outlinewidth\": 0, \"ticks\": \"\"}, \"type\": \"mesh3d\"}], \"parcoords\": [{\"line\": {\"colorbar\": {\"outlinewidth\": 0, \"ticks\": \"\"}}, \"type\": \"parcoords\"}], \"pie\": [{\"automargin\": true, \"type\": \"pie\"}], \"scatter\": [{\"marker\": {\"colorbar\": {\"outlinewidth\": 0, \"ticks\": \"\"}}, \"type\": \"scatter\"}], \"scatter3d\": [{\"line\": {\"colorbar\": {\"outlinewidth\": 0, \"ticks\": \"\"}}, \"marker\": {\"colorbar\": {\"outlinewidth\": 0, \"ticks\": \"\"}}, \"type\": \"scatter3d\"}], \"scattercarpet\": [{\"marker\": {\"colorbar\": {\"outlinewidth\": 0, \"ticks\": \"\"}}, \"type\": \"scattercarpet\"}], \"scattergeo\": [{\"marker\": {\"colorbar\": {\"outlinewidth\": 0, \"ticks\": \"\"}}, \"type\": \"scattergeo\"}], \"scattergl\": [{\"marker\": {\"colorbar\": {\"outlinewidth\": 0, \"ticks\": \"\"}}, \"type\": \"scattergl\"}], \"scattermapbox\": [{\"marker\": {\"colorbar\": {\"outlinewidth\": 0, \"ticks\": \"\"}}, \"type\": \"scattermapbox\"}], \"scatterpolar\": [{\"marker\": {\"colorbar\": {\"outlinewidth\": 0, \"ticks\": \"\"}}, \"type\": \"scatterpolar\"}], \"scatterpolargl\": [{\"marker\": {\"colorbar\": {\"outlinewidth\": 0, \"ticks\": \"\"}}, \"type\": \"scatterpolargl\"}], \"scatterternary\": [{\"marker\": {\"colorbar\": {\"outlinewidth\": 0, \"ticks\": \"\"}}, \"type\": \"scatterternary\"}], \"surface\": [{\"colorbar\": {\"outlinewidth\": 0, \"ticks\": \"\"}, \"colorscale\": [[0.0, \"#0d0887\"], [0.1111111111111111, \"#46039f\"], [0.2222222222222222, \"#7201a8\"], [0.3333333333333333, \"#9c179e\"], [0.4444444444444444, \"#bd3786\"], [0.5555555555555556, \"#d8576b\"], [0.6666666666666666, \"#ed7953\"], [0.7777777777777778, \"#fb9f3a\"], [0.8888888888888888, \"#fdca26\"], [1.0, \"#f0f921\"]], \"type\": \"surface\"}], \"table\": [{\"cells\": {\"fill\": {\"color\": \"#EBF0F8\"}, \"line\": {\"color\": \"white\"}}, \"header\": {\"fill\": {\"color\": \"#C8D4E3\"}, \"line\": {\"color\": \"white\"}}, \"type\": \"table\"}]}, \"layout\": {\"annotationdefaults\": {\"arrowcolor\": \"#2a3f5f\", \"arrowhead\": 0, \"arrowwidth\": 1}, \"coloraxis\": {\"colorbar\": {\"outlinewidth\": 0, \"ticks\": \"\"}}, \"colorscale\": {\"diverging\": [[0, \"#8e0152\"], [0.1, \"#c51b7d\"], [0.2, \"#de77ae\"], [0.3, \"#f1b6da\"], [0.4, \"#fde0ef\"], [0.5, \"#f7f7f7\"], [0.6, \"#e6f5d0\"], [0.7, \"#b8e186\"], [0.8, \"#7fbc41\"], [0.9, \"#4d9221\"], [1, \"#276419\"]], \"sequential\": [[0.0, \"#0d0887\"], [0.1111111111111111, \"#46039f\"], [0.2222222222222222, \"#7201a8\"], [0.3333333333333333, \"#9c179e\"], [0.4444444444444444, \"#bd3786\"], [0.5555555555555556, \"#d8576b\"], [0.6666666666666666, \"#ed7953\"], [0.7777777777777778, \"#fb9f3a\"], [0.8888888888888888, \"#fdca26\"], [1.0, \"#f0f921\"]], \"sequentialminus\": [[0.0, \"#0d0887\"], [0.1111111111111111, \"#46039f\"], [0.2222222222222222, \"#7201a8\"], [0.3333333333333333, \"#9c179e\"], [0.4444444444444444, \"#bd3786\"], [0.5555555555555556, \"#d8576b\"], [0.6666666666666666, \"#ed7953\"], [0.7777777777777778, \"#fb9f3a\"], [0.8888888888888888, \"#fdca26\"], [1.0, \"#f0f921\"]]}, \"colorway\": [\"#636efa\", \"#EF553B\", \"#00cc96\", \"#ab63fa\", \"#FFA15A\", \"#19d3f3\", \"#FF6692\", \"#B6E880\", \"#FF97FF\", \"#FECB52\"], \"font\": {\"color\": \"#2a3f5f\"}, \"geo\": {\"bgcolor\": \"white\", \"lakecolor\": \"white\", \"landcolor\": \"#E5ECF6\", \"showlakes\": true, \"showland\": true, \"subunitcolor\": \"white\"}, \"hoverlabel\": {\"align\": \"left\"}, \"hovermode\": \"closest\", \"mapbox\": {\"style\": \"light\"}, \"paper_bgcolor\": \"white\", \"plot_bgcolor\": \"#E5ECF6\", \"polar\": {\"angularaxis\": {\"gridcolor\": \"white\", \"linecolor\": \"white\", \"ticks\": \"\"}, \"bgcolor\": \"#E5ECF6\", \"radialaxis\": {\"gridcolor\": \"white\", \"linecolor\": \"white\", \"ticks\": \"\"}}, \"scene\": {\"xaxis\": {\"backgroundcolor\": \"#E5ECF6\", \"gridcolor\": \"white\", \"gridwidth\": 2, \"linecolor\": \"white\", \"showbackground\": true, \"ticks\": \"\", \"zerolinecolor\": \"white\"}, \"yaxis\": {\"backgroundcolor\": \"#E5ECF6\", \"gridcolor\": \"white\", \"gridwidth\": 2, \"linecolor\": \"white\", \"showbackground\": true, \"ticks\": \"\", \"zerolinecolor\": \"white\"}, \"zaxis\": {\"backgroundcolor\": \"#E5ECF6\", \"gridcolor\": \"white\", \"gridwidth\": 2, \"linecolor\": \"white\", \"showbackground\": true, \"ticks\": \"\", \"zerolinecolor\": \"white\"}}, \"shapedefaults\": {\"line\": {\"color\": \"#2a3f5f\"}}, \"ternary\": {\"aaxis\": {\"gridcolor\": \"white\", \"linecolor\": \"white\", \"ticks\": \"\"}, \"baxis\": {\"gridcolor\": \"white\", \"linecolor\": \"white\", \"ticks\": \"\"}, \"bgcolor\": \"#E5ECF6\", \"caxis\": {\"gridcolor\": \"white\", \"linecolor\": \"white\", \"ticks\": \"\"}}, \"title\": {\"x\": 0.05}, \"xaxis\": {\"automargin\": true, \"gridcolor\": \"white\", \"linecolor\": \"white\", \"ticks\": \"\", \"title\": {\"standoff\": 15}, \"zerolinecolor\": \"white\", \"zerolinewidth\": 2}, \"yaxis\": {\"automargin\": true, \"gridcolor\": \"white\", \"linecolor\": \"white\", \"ticks\": \"\", \"title\": {\"standoff\": 15}, \"zerolinecolor\": \"white\", \"zerolinewidth\": 2}}}, \"title\": {\"text\": \"\"}, \"xaxis\": {\"title\": {\"text\": \"Involved People\"}}, \"yaxis\": {\"title\": {\"text\": \"# KSI\"}}},\n",
              "                        {\"responsive\": true}\n",
              "                    ).then(function(){\n",
              "                            \n",
              "var gd = document.getElementById('d03389b0-7ec0-4996-8b06-46801b97f25d');\n",
              "var x = new MutationObserver(function (mutations, observer) {{\n",
              "        var display = window.getComputedStyle(gd).display;\n",
              "        if (!display || display === 'none') {{\n",
              "            console.log([gd, 'removed!']);\n",
              "            Plotly.purge(gd);\n",
              "            observer.disconnect();\n",
              "        }}\n",
              "}});\n",
              "\n",
              "// Listen for the removal of the full notebook cells\n",
              "var notebookContainer = gd.closest('#notebook-container');\n",
              "if (notebookContainer) {{\n",
              "    x.observe(notebookContainer, {childList: true});\n",
              "}}\n",
              "\n",
              "// Listen for the clearing of the current output cell\n",
              "var outputEl = gd.closest('.output');\n",
              "if (outputEl) {{\n",
              "    x.observe(outputEl, {childList: true});\n",
              "}}\n",
              "\n",
              "                        })\n",
              "                };\n",
              "                \n",
              "            </script>\n",
              "        </div>\n",
              "</body>\n",
              "</html>"
            ]
          },
          "metadata": {
            "tags": []
          }
        }
      ]
    },
    {
      "cell_type": "code",
      "metadata": {
        "trusted": true,
        "id": "_uXD0MGeD86r",
        "colab_type": "code",
        "colab": {}
      },
      "source": [
        "# ohe stands for one-hot encoding\n",
        "ohe_fields=['road_class', 'road_surface_cond', 'visibility', 'light', 'impact_type', 'involved_class', 'involved_injury_class']\n",
        "\n",
        "# One-Hot encode a couple of variables\n",
        "df4 = pd.get_dummies(df4, columns=ohe_fields, prefix=ohe_fields)\n",
        "df4"
      ],
      "execution_count": 0,
      "outputs": []
    },
    {
      "cell_type": "code",
      "metadata": {
        "trusted": true,
        "id": "DL0MdqOBD86t",
        "colab_type": "code",
        "colab": {}
      },
      "source": [
        "# df4.to_csv('df4.csv')"
      ],
      "execution_count": 0,
      "outputs": []
    }
  ]
}